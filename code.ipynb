{
 "cells": [
  {
   "cell_type": "code",
   "execution_count": 1,
   "metadata": {},
   "outputs": [],
   "source": [
    "from selenium import webdriver\n",
    "from selenium.webdriver.common.by import By\n",
    "import webbrowser\n",
    "from bs4 import BeautifulSoup\n",
    "import pandas as pd\n",
    "import xlsxwriter\n",
    "from selenium.common.exceptions import NoSuchElementException\n",
    "import time\n",
    "from random_user_agent.user_agent import UserAgent\n",
    "from random_user_agent.params import SoftwareName,OperatingSystem\n",
    "from selenium.webdriver.chrome.options import Options\n",
    "import json\n",
    "from selenium.webdriver.common.action_chains import ActionChains"
   ]
  },
  {
   "cell_type": "code",
   "execution_count": 2,
   "metadata": {},
   "outputs": [],
   "source": [
    "url = \"https://www.zomato.com/hyderabad\"\n",
    "driver = webdriver.Chrome()\n",
    "driver.get(url)"
   ]
  },
  {
   "cell_type": "markdown",
   "metadata": {},
   "source": [
    "Rest. name,\n",
    "item,\n",
    "rating,\n",
    "location,\n",
    "url,\n",
    "category"
   ]
  },
  {
   "cell_type": "code",
   "execution_count": 3,
   "metadata": {},
   "outputs": [],
   "source": [
    "driver.execute_script(\"window.scrollTo(0, document.body.scrollHeight);\")\n",
    "time.sleep(180)"
   ]
  },
  {
   "cell_type": "code",
   "execution_count": 4,
   "metadata": {},
   "outputs": [],
   "source": [
    "soup = BeautifulSoup(driver.page_source, \"html.parser\")"
   ]
  },
  {
   "cell_type": "code",
   "execution_count": 8,
   "metadata": {},
   "outputs": [
    {
     "name": "stdout",
     "output_type": "stream",
     "text": [
      "['https://www.zomato.com/hyderabad/ohris-uppu-banjara-hills/info', 'https://www.zomato.com/hyderabad/raise-the-bar-2-manikonda/info', 'https://www.zomato.com/hyderabad/president-dhaba-madhapur/info', 'https://www.zomato.com/hyderabad/aura-cafe-infusion-bar-jubilee-hills/info', 'https://www.zomato.com/hyderabad/tiki-shack-gachibowli/info', 'https://www.zomato.com/hyderabad/cross-breed-club-kitchen-gachibowli/info', 'https://www.zomato.com/hyderabad/asf-ancient-stone-flames-bbq-grill-gachibowli/info', 'https://www.zomato.com/hyderabad/the-fishermans-wharf-financial-district/info', 'https://www.zomato.com/hyderabad/animal-club-and-kitchen-gachibowli/info', 'https://www.zomato.com/hyderabad/jalpaan-begumpet/info', 'https://www.zomato.com/hyderabad/erra-karam-south-indian-resto-bar-jubilee-hills/info', 'https://www.zomato.com/hyderabad/ohris-rubaiyat-hitech-city/info', 'https://www.zomato.com/hyderabad/farzi-cafe-jubilee-hills/info', 'https://www.zomato.com/hyderabad/china-bistro-kondapur/info', 'https://www.zomato.com/hyderabad/mrs-mage-1-gachibowli/info', 'https://www.zomato.com/hyderabad/medley-jubilee-hills/info', 'https://www.zomato.com/hyderabad/glocal-junction-kondapur/info', 'https://www.zomato.com/hyderabad/humming-bird-cafe-madhapur/info', 'https://www.zomato.com/hyderabad/over-the-moon-brew-company-gachibowli/info', 'https://www.zomato.com/hyderabad/pompeii-pizza-studio-jubilee-hills/info', 'https://www.zomato.com/hyderabad/amritsari-aangan-gandipet/info', 'https://www.zomato.com/hyderabad/shanghai-chef-gachibowli/info', 'https://www.zomato.com/hyderabad/quad-bar-and-kitchen-jubilee-hills/info', 'https://www.zomato.com/hyderabad/rayalaseema-ruchulu-1-ameerpet/info', 'https://www.zomato.com/hyderabad/atg-across-the-globe-lingampally/info', 'https://www.zomato.com/hyderabad/lakshmis-united-kitchen-madhapur/info', 'https://www.zomato.com/hyderabad/amys-cafe-manikonda/info', 'https://www.zomato.com/hyderabad/skyhy-live-gachibowli/info', 'https://www.zomato.com/hyderabad/frykiki-habsiguda/info', 'https://www.zomato.com/hyderabad/desi-bytes-kondapur/info', 'https://www.zomato.com/hyderabad/daspalla-hotel-jubilee-hills/info', 'https://www.zomato.com/hyderabad/deccan-kitchen-jubilee-hills/info', 'https://www.zomato.com/hyderabad/nidhi-ki-rasoi-se-1-lingampally/info', 'https://www.zomato.com/hyderabad/collage-hyatt-hyderabad-gachibowli-gachibowli/info']\n"
     ]
    }
   ],
   "source": [
    "hotels = [\"https://www.zomato.com\"+hotel.find(\"a\")['href'] for hotel in soup.find_all(\"div\",{\"class\":\"sc-hENMEE gieYfx\"})]\n",
    "print(hotels)"
   ]
  },
  {
   "cell_type": "code",
   "execution_count": 9,
   "metadata": {},
   "outputs": [],
   "source": [
    "driver.get(hotels[0])"
   ]
  },
  {
   "cell_type": "code",
   "execution_count": 10,
   "metadata": {},
   "outputs": [
    {
     "data": {
      "text/plain": [
       "\"Ohri's Uppu\""
      ]
     },
     "execution_count": 10,
     "metadata": {},
     "output_type": "execute_result"
    }
   ],
   "source": [
    "soup = BeautifulSoup(driver.page_source, \"html.parser\")\n",
    "name = soup.find(\"h1\",{\"class\":\"sc-7kepeu-0 sc-iSDuPN fwzNdh\"}).text\n",
    "name"
   ]
  },
  {
   "cell_type": "code",
   "execution_count": 13,
   "metadata": {},
   "outputs": [
    {
     "data": {
      "text/plain": [
       "'Door 8-2-682/3, Road 12, Banjara Hills, Hyderabad'"
      ]
     },
     "execution_count": 13,
     "metadata": {},
     "output_type": "execute_result"
    }
   ],
   "source": [
    "location = soup.find(\"p\",{\"class\":\"sc-1hez2tp-0 clKRrC\"}).text\n",
    "location"
   ]
  },
  {
   "cell_type": "code",
   "execution_count": 14,
   "metadata": {},
   "outputs": [
    {
     "data": {
      "text/plain": [
       "'3.9'"
      ]
     },
     "execution_count": 14,
     "metadata": {},
     "output_type": "execute_result"
    }
   ],
   "source": [
    "total_rating = soup.find_all(\"div\",{\"class\":\"sc-1q7bklc-1 cILgox\"})[1].text\n",
    "total_rating"
   ]
  },
  {
   "cell_type": "code",
   "execution_count": 53,
   "metadata": {},
   "outputs": [
    {
     "name": "stdout",
     "output_type": "stream",
     "text": [
      "hyderabad\n"
     ]
    }
   ],
   "source": [
    "print(hotels[0].split(\"/\")[3])\n",
    "# driver.get(\"/\".join(hotels[0].split(\"/\")[:-1])+\"/order\")"
   ]
  },
  {
   "cell_type": "code",
   "execution_count": 32,
   "metadata": {},
   "outputs": [
    {
     "name": "stdout",
     "output_type": "stream",
     "text": [
      "[<div class=\"sc-1s0saks-11 cYGeYt\"><div class=\"sc-1s0saks-13 kQHKsO\"><h4 class=\"sc-1s0saks-15 iSmBPS\">Tomato Miriyala Rasam</h4><div class=\"sc-1s0saks-1 dpXgPd\"><div class=\"sc-1s0saks-2 jYdcVk\"><div class=\"sc-2gamf4-0 bFcyiI\" font-size=\"1.2rem\" type=\"tag\">SPICY</div></div></div><div class=\"sc-17hyc2s-3 jOoliK sc-1s0saks-8 gYkxGN\"><span class=\"sc-17hyc2s-1 cCiQWA\">₹169</span></div></div></div>, <div class=\"sc-1s0saks-11 cYGeYt\"><div class=\"sc-1s0saks-13 kQHKsO\"><h4 class=\"sc-1s0saks-15 iSmBPS\">Kodi Shorba</h4><div class=\"sc-17hyc2s-3 jOoliK sc-1s0saks-8 gYkxGN\"><span class=\"sc-17hyc2s-1 cCiQWA\">₹189</span></div></div></div>, <div class=\"sc-1s0saks-11 cYGeYt\"><div class=\"sc-1s0saks-13 kQHKsO\"><h4 class=\"sc-1s0saks-15 iSmBPS\">Pandu Mirchi Veg Sticks</h4><div class=\"sc-17hyc2s-3 jOoliK sc-1s0saks-8 gYkxGN\"><span class=\"sc-17hyc2s-1 cCiQWA\">₹299</span></div></div></div>, <div class=\"sc-1s0saks-11 cYGeYt\"><div class=\"sc-1s0saks-13 kQHKsO\"><h4 class=\"sc-1s0saks-15 iSmBPS\">Palavelli Mushroom Vepudu</h4><div class=\"sc-17hyc2s-3 jOoliK sc-1s0saks-8 gYkxGN\"><span class=\"sc-17hyc2s-1 cCiQWA\">₹329</span></div></div></div>, <div class=\"sc-1s0saks-11 cYGeYt\"><div class=\"sc-1s0saks-13 kQHKsO\"><h4 class=\"sc-1s0saks-15 iSmBPS\">Konaseema Paneer Vepudu</h4><div class=\"sc-17hyc2s-3 jOoliK sc-1s0saks-8 gYkxGN\"><span class=\"sc-17hyc2s-1 cCiQWA\">₹329</span></div></div></div>, <div class=\"sc-1s0saks-11 cYGeYt\"><div class=\"sc-1s0saks-13 kQHKsO\"><h4 class=\"sc-1s0saks-15 iSmBPS\">Pudina Paneer Vepudu</h4><div class=\"sc-17hyc2s-3 jOoliK sc-1s0saks-8 gYkxGN\"><span class=\"sc-17hyc2s-1 cCiQWA\">₹329</span></div></div></div>, <div class=\"sc-1s0saks-11 cYGeYt\"><div class=\"sc-1s0saks-13 kQHKsO\"><h4 class=\"sc-1s0saks-15 iSmBPS\">Paneer Tikka</h4><div class=\"sc-17hyc2s-3 jOoliK sc-1s0saks-8 gYkxGN\"><span class=\"sc-17hyc2s-1 cCiQWA\">₹349</span></div></div></div>, <div class=\"sc-1s0saks-11 cYGeYt\"><div class=\"sc-1s0saks-13 kQHKsO\"><h4 class=\"sc-1s0saks-15 iSmBPS\">Jilakara Kodi Vepudu</h4><div class=\"sc-17hyc2s-3 jOoliK sc-1s0saks-8 gYkxGN\"><span class=\"sc-17hyc2s-1 cCiQWA\">₹349</span></div></div></div>, <div class=\"sc-1s0saks-11 cYGeYt\"><div class=\"sc-1s0saks-13 kQHKsO\"><h4 class=\"sc-1s0saks-15 iSmBPS\">Kodi Roast</h4><div class=\"sc-17hyc2s-3 jOoliK sc-1s0saks-8 gYkxGN\"><span class=\"sc-17hyc2s-1 cCiQWA\">₹399</span></div></div></div>, <div class=\"sc-1s0saks-11 cYGeYt\"><div class=\"sc-1s0saks-13 kQHKsO\"><h4 class=\"sc-1s0saks-15 iSmBPS\">Velluli Kodi Vepudu</h4><div class=\"sc-1s0saks-1 dpXgPd\"><div class=\"sc-1s0saks-2 jYdcVk\"><div class=\"sc-2gamf4-0 bFcyiI\" font-size=\"1.2rem\" type=\"tag\">SPICY</div></div></div><div class=\"sc-17hyc2s-3 jOoliK sc-1s0saks-8 gYkxGN\"><span class=\"sc-17hyc2s-1 cCiQWA\">₹419</span></div></div></div>, <div class=\"sc-1s0saks-11 cYGeYt\"><div class=\"sc-1s0saks-13 kQHKsO\"><h4 class=\"sc-1s0saks-15 iSmBPS\">Pandu Mirchi Kodi Sticks</h4><div class=\"sc-17hyc2s-3 jOoliK sc-1s0saks-8 gYkxGN\"><span class=\"sc-17hyc2s-1 cCiQWA\">₹399</span></div></div></div>, <div class=\"sc-1s0saks-11 cYGeYt\"><div class=\"sc-1s0saks-13 kQHKsO\"><h4 class=\"sc-1s0saks-15 iSmBPS\">Ramagundam Kodi Vepudu</h4><div class=\"sc-17hyc2s-3 jOoliK sc-1s0saks-8 gYkxGN\"><span class=\"sc-17hyc2s-1 cCiQWA\">₹549</span></div></div></div>, <div class=\"sc-1s0saks-11 cYGeYt\"><div class=\"sc-1s0saks-13 kQHKsO\"><h4 class=\"sc-1s0saks-15 iSmBPS\">Pandu Mirchi Kodi Kabab</h4><div class=\"sc-17hyc2s-3 jOoliK sc-1s0saks-8 gYkxGN\"><span class=\"sc-17hyc2s-1 cCiQWA\">₹399</span></div></div></div>, <div class=\"sc-1s0saks-11 cYGeYt\"><div class=\"sc-1s0saks-13 kQHKsO\"><h4 class=\"sc-1s0saks-15 iSmBPS\">Pachhi Mirchi Kodi Kabab</h4><div class=\"sc-17hyc2s-3 jOoliK sc-1s0saks-8 gYkxGN\"><span class=\"sc-17hyc2s-1 cCiQWA\">₹399</span></div></div></div>, <div class=\"sc-1s0saks-11 cYGeYt\"><div class=\"sc-1s0saks-13 kQHKsO\"><h4 class=\"sc-1s0saks-15 iSmBPS\">Khandari Kodi Kabab</h4><div class=\"sc-1s0saks-1 dpXgPd\"><div class=\"sc-1s0saks-2 jYdcVk\"><div class=\"sc-2gamf4-0 bFcyiI\" font-size=\"1.2rem\" type=\"tag\">SPICY</div></div></div><div class=\"sc-17hyc2s-3 jOoliK sc-1s0saks-8 gYkxGN\"><span class=\"sc-17hyc2s-1 cCiQWA\">₹399</span></div></div></div>, <div class=\"sc-1s0saks-11 cYGeYt\"><div class=\"sc-1s0saks-13 kQHKsO\"><h4 class=\"sc-1s0saks-15 iSmBPS\">Gongura Kodi Kabab</h4><div class=\"sc-1s0saks-1 dpXgPd\"><div class=\"sc-1s0saks-2 jYdcVk\"><div class=\"sc-2gamf4-0 bFcyiI\" font-size=\"1.2rem\" type=\"tag\">SPICY</div></div></div><div class=\"sc-17hyc2s-3 jOoliK sc-1s0saks-8 gYkxGN\"><span class=\"sc-17hyc2s-1 cCiQWA\">₹399</span></div></div></div>, <div class=\"sc-1s0saks-11 cYGeYt\"><div class=\"sc-1s0saks-13 kQHKsO\"><h4 class=\"sc-1s0saks-15 iSmBPS\">Miriyala Mamsam Vepudu</h4><div class=\"sc-17hyc2s-3 jOoliK sc-1s0saks-8 gYkxGN\"><span class=\"sc-17hyc2s-1 cCiQWA\">₹449</span></div></div></div>, <div class=\"sc-1s0saks-11 cYGeYt\"><div class=\"sc-1s0saks-13 kQHKsO\"><h4 class=\"sc-1s0saks-15 iSmBPS\">Gongura Mamsam Vepudu</h4><div class=\"sc-17hyc2s-3 jOoliK sc-1s0saks-8 gYkxGN\"><span class=\"sc-17hyc2s-1 cCiQWA\">₹449</span></div></div></div>, <div class=\"sc-1s0saks-11 cYGeYt\"><div class=\"sc-1s0saks-13 kQHKsO\"><h4 class=\"sc-1s0saks-15 iSmBPS\">Bhimavaram Mamsam Vepudu</h4><div class=\"sc-17hyc2s-3 jOoliK sc-1s0saks-8 gYkxGN\"><span class=\"sc-17hyc2s-1 cCiQWA\">₹449</span></div></div></div>, <div class=\"sc-1s0saks-11 cYGeYt\"><div class=\"sc-1s0saks-13 kQHKsO\"><h4 class=\"sc-1s0saks-15 iSmBPS\">Chepa Vepudu Boneless</h4><div class=\"sc-1s0saks-1 dpXgPd\"><div class=\"sc-1s0saks-2 jYdcVk\"><div class=\"sc-2gamf4-0 bFcyiI\" font-size=\"1.2rem\" type=\"tag\">SPICY</div></div></div><div class=\"sc-17hyc2s-3 jOoliK sc-1s0saks-8 gYkxGN\"><span class=\"sc-17hyc2s-1 cCiQWA\">₹449</span></div></div></div>, <div class=\"sc-1s0saks-11 cYGeYt\"><div class=\"sc-1s0saks-13 kQHKsO\"><h4 class=\"sc-1s0saks-15 iSmBPS\">Ajwaini Chepa Tikka</h4><div class=\"sc-17hyc2s-3 jOoliK sc-1s0saks-8 gYkxGN\"><span class=\"sc-17hyc2s-1 cCiQWA\">₹449</span></div></div></div>, <div class=\"sc-1s0saks-11 cYGeYt\"><div class=\"sc-1s0saks-13 kQHKsO\"><h4 class=\"sc-1s0saks-15 iSmBPS\">Royyala Boondi Vepudu</h4><div class=\"sc-17hyc2s-3 jOoliK sc-1s0saks-8 gYkxGN\"><span class=\"sc-17hyc2s-1 cCiQWA\">₹449</span></div></div></div>, <div class=\"sc-1s0saks-11 cYGeYt\"><div class=\"sc-1s0saks-13 kQHKsO\"><h4 class=\"sc-1s0saks-15 iSmBPS\">Rajamundry Royyala Vepudu</h4><div class=\"sc-17hyc2s-3 jOoliK sc-1s0saks-8 gYkxGN\"><span class=\"sc-17hyc2s-1 cCiQWA\">₹449</span></div></div></div>, <div class=\"sc-1s0saks-11 cYGeYt\"><div class=\"sc-1s0saks-13 kQHKsO\"><h4 class=\"sc-1s0saks-15 iSmBPS\">Chinna Ullipaya Paneer Curry</h4><div class=\"sc-17hyc2s-3 jOoliK sc-1s0saks-8 gYkxGN\"><span class=\"sc-17hyc2s-1 cCiQWA\">₹299</span></div></div></div>, <div class=\"sc-1s0saks-11 cYGeYt\"><div class=\"sc-1s0saks-13 kQHKsO\"><h4 class=\"sc-1s0saks-15 iSmBPS\">Methi Kura Paneer</h4><div class=\"sc-17hyc2s-3 jOoliK sc-1s0saks-8 gYkxGN\"><span class=\"sc-17hyc2s-1 cCiQWA\">₹299</span></div></div></div>, <div class=\"sc-1s0saks-11 cYGeYt\"><div class=\"sc-1s0saks-13 kQHKsO\"><h4 class=\"sc-1s0saks-15 iSmBPS\">Jeedi Pappu Mushroom Curry</h4><div class=\"sc-17hyc2s-3 jOoliK sc-1s0saks-8 gYkxGN\"><span class=\"sc-17hyc2s-1 cCiQWA\">₹349</span></div></div></div>, <div class=\"sc-1s0saks-11 cYGeYt\"><div class=\"sc-1s0saks-13 kQHKsO\"><h4 class=\"sc-1s0saks-15 iSmBPS\">Tomato Pappu</h4><div class=\"sc-17hyc2s-3 jOoliK sc-1s0saks-8 gYkxGN\"><span class=\"sc-17hyc2s-1 cCiQWA\">₹249</span></div></div></div>, <div class=\"sc-1s0saks-11 cYGeYt\"><div class=\"sc-1s0saks-13 kQHKsO\"><h4 class=\"sc-1s0saks-15 iSmBPS\">Palakura Pappu</h4><div class=\"sc-17hyc2s-3 jOoliK sc-1s0saks-8 gYkxGN\"><span class=\"sc-17hyc2s-1 cCiQWA\">₹249</span></div></div></div>, <div class=\"sc-1s0saks-11 cYGeYt\"><div class=\"sc-1s0saks-13 kQHKsO\"><h4 class=\"sc-1s0saks-15 iSmBPS\">Mamidikaya Pappu</h4><div class=\"sc-17hyc2s-3 jOoliK sc-1s0saks-8 gYkxGN\"><span class=\"sc-17hyc2s-1 cCiQWA\">₹249</span></div></div></div>, <div class=\"sc-1s0saks-11 cYGeYt\"><div class=\"sc-1s0saks-13 kQHKsO\"><h4 class=\"sc-1s0saks-15 iSmBPS\">Methikura Pappu</h4><div class=\"sc-17hyc2s-3 jOoliK sc-1s0saks-8 gYkxGN\"><span class=\"sc-17hyc2s-1 cCiQWA\">₹249</span></div></div></div>, <div class=\"sc-1s0saks-11 cYGeYt\"><div class=\"sc-1s0saks-13 kQHKsO\"><h4 class=\"sc-1s0saks-15 iSmBPS\">Gongura Pappu</h4><div class=\"sc-17hyc2s-3 jOoliK sc-1s0saks-8 gYkxGN\"><span class=\"sc-17hyc2s-1 cCiQWA\">₹249</span></div></div></div>, <div class=\"sc-1s0saks-11 cYGeYt\"><div class=\"sc-1s0saks-13 kQHKsO\"><h4 class=\"sc-1s0saks-15 iSmBPS\">Kodi Guddu Iguru</h4><div class=\"sc-z30xqq-2 dnSIjs sc-1s0saks-9 kNjbyv\"><div class=\"sc-z30xqq-3 bewuUV\"><i class=\"sc-rbbb40-1 iFnyeo sc-z30xqq-0 fehnhH\" color=\"#F3C117\" size=\"14\"><svg aria-labelledby=\"icon-svg-title- icon-svg-desc-\" class=\"sc-rbbb40-0 kyPUnV\" fill=\"#F3C117\" height=\"14\" role=\"img\" viewbox=\"0 0 20 20\" width=\"14\" xmlns=\"http://www.w3.org/2000/svg\"><title>star-fill</title><path d=\"M6.76 6.8l-6.38 0.96c-0.22 0.040-0.38 0.22-0.38 0.44 0 0.12 0.040 0.24 0.12 0.32v0l4.64 4.76-1.1 6.66c0 0.020 0 0.040 0 0.080 0 0.24 0.2 0.44 0.44 0.44 0.1 0 0.16-0.020 0.24-0.060v0l5.7-3.12 5.68 3.12c0.060 0.040 0.14 0.060 0.22 0.060 0.24 0 0.44-0.2 0.44-0.44 0-0.040 0-0.060 0-0.080v0l-1.1-6.66 4.64-4.76c0.080-0.080 0.12-0.2 0.12-0.32 0-0.22-0.16-0.4-0.36-0.44h-0.020l-6.38-0.96-2.96-6.18c-0.060-0.12-0.18-0.2-0.32-0.2s-0.26 0.080-0.32 0.2v0z\"></path></svg></i><i class=\"sc-rbbb40-1 iFnyeo sc-z30xqq-0 fehnhH\" color=\"#F3C117\" size=\"14\"><svg aria-labelledby=\"icon-svg-title- icon-svg-desc-\" class=\"sc-rbbb40-0 kyPUnV\" fill=\"#F3C117\" height=\"14\" role=\"img\" viewbox=\"0 0 20 20\" width=\"14\" xmlns=\"http://www.w3.org/2000/svg\"><title>star-fill</title><path d=\"M6.76 6.8l-6.38 0.96c-0.22 0.040-0.38 0.22-0.38 0.44 0 0.12 0.040 0.24 0.12 0.32v0l4.64 4.76-1.1 6.66c0 0.020 0 0.040 0 0.080 0 0.24 0.2 0.44 0.44 0.44 0.1 0 0.16-0.020 0.24-0.060v0l5.7-3.12 5.68 3.12c0.060 0.040 0.14 0.060 0.22 0.060 0.24 0 0.44-0.2 0.44-0.44 0-0.040 0-0.060 0-0.080v0l-1.1-6.66 4.64-4.76c0.080-0.080 0.12-0.2 0.12-0.32 0-0.22-0.16-0.4-0.36-0.44h-0.020l-6.38-0.96-2.96-6.18c-0.060-0.12-0.18-0.2-0.32-0.2s-0.26 0.080-0.32 0.2v0z\"></path></svg></i><i class=\"sc-rbbb40-1 iFnyeo sc-z30xqq-0 fehnhH\" color=\"#F3C117\" size=\"14\"><svg aria-labelledby=\"icon-svg-title- icon-svg-desc-\" class=\"sc-rbbb40-0 kyPUnV\" fill=\"#F3C117\" height=\"14\" role=\"img\" viewbox=\"0 0 20 20\" width=\"14\" xmlns=\"http://www.w3.org/2000/svg\"><title>star-fill</title><path d=\"M6.76 6.8l-6.38 0.96c-0.22 0.040-0.38 0.22-0.38 0.44 0 0.12 0.040 0.24 0.12 0.32v0l4.64 4.76-1.1 6.66c0 0.020 0 0.040 0 0.080 0 0.24 0.2 0.44 0.44 0.44 0.1 0 0.16-0.020 0.24-0.060v0l5.7-3.12 5.68 3.12c0.060 0.040 0.14 0.060 0.22 0.060 0.24 0 0.44-0.2 0.44-0.44 0-0.040 0-0.060 0-0.080v0l-1.1-6.66 4.64-4.76c0.080-0.080 0.12-0.2 0.12-0.32 0-0.22-0.16-0.4-0.36-0.44h-0.020l-6.38-0.96-2.96-6.18c-0.060-0.12-0.18-0.2-0.32-0.2s-0.26 0.080-0.32 0.2v0z\"></path></svg></i><i class=\"sc-rbbb40-1 iFnyeo sc-z30xqq-0 fehnhH\" color=\"#F3C117\" size=\"14\"><svg aria-labelledby=\"icon-svg-title- icon-svg-desc-\" class=\"sc-rbbb40-0 kyPUnV\" fill=\"#F3C117\" height=\"14\" role=\"img\" viewbox=\"0 0 20 20\" width=\"14\" xmlns=\"http://www.w3.org/2000/svg\"><title>star-fill</title><path d=\"M6.76 6.8l-6.38 0.96c-0.22 0.040-0.38 0.22-0.38 0.44 0 0.12 0.040 0.24 0.12 0.32v0l4.64 4.76-1.1 6.66c0 0.020 0 0.040 0 0.080 0 0.24 0.2 0.44 0.44 0.44 0.1 0 0.16-0.020 0.24-0.060v0l5.7-3.12 5.68 3.12c0.060 0.040 0.14 0.060 0.22 0.060 0.24 0 0.44-0.2 0.44-0.44 0-0.040 0-0.060 0-0.080v0l-1.1-6.66 4.64-4.76c0.080-0.080 0.12-0.2 0.12-0.32 0-0.22-0.16-0.4-0.36-0.44h-0.020l-6.38-0.96-2.96-6.18c-0.060-0.12-0.18-0.2-0.32-0.2s-0.26 0.080-0.32 0.2v0z\"></path></svg></i><i class=\"sc-rbbb40-1 iFnyeo sc-z30xqq-1 heKqFw\" color=\"#F3C117\" size=\"14\"><svg aria-labelledby=\"icon-svg-title- icon-svg-desc-\" class=\"sc-rbbb40-0 kyPUnV\" fill=\"#F3C117\" height=\"14\" role=\"img\" viewbox=\"0 0 20 20\" width=\"14\" xmlns=\"http://www.w3.org/2000/svg\"><lineargradient id=\"clt8puh4m00203578alol2htx\" x1=\"0\" x2=\"100%\" y1=\"0\" y2=\"0\"><stop offset=\"0\" stop-color=\"#F3C117\"></stop><stop offset=\"18%\" stop-color=\"#F3C117\"></stop><stop offset=\"19%\" stop-color=\"#E8E8E8\"></stop><stop offset=\"1\" stop-color=\"#E8E8E8\"></stop></lineargradient><path d=\"M6.76 6.8l-6.38 0.96c-0.22 0.040-0.38 0.22-0.38 0.44 0 0.12 0.040 0.24 0.12 0.32v0l4.64 4.76-1.1 6.66c0 0.020 0 0.040 0 0.080 0 0.24 0.2 0.44 0.44 0.44 0.1 0 0.16-0.020 0.24-0.060v0l5.7-3.12 5.68 3.12c0.060 0.040 0.14 0.060 0.22 0.060 0.24 0 0.44-0.2 0.44-0.44 0-0.040 0-0.060 0-0.080v0l-1.1-6.66 4.64-4.76c0.080-0.080 0.12-0.2 0.12-0.32 0-0.22-0.16-0.4-0.36-0.44h-0.020l-6.38-0.96-2.96-6.18c-0.060-0.12-0.18-0.2-0.32-0.2s-0.26 0.080-0.32 0.2v0z\" fill=\"url(#clt8puh4m00203578alol2htx)\"></path></svg></i></div><span class=\"sc-z30xqq-4 hTgtKb\">11 votes</span></div><div class=\"sc-17hyc2s-3 jOoliK sc-1s0saks-8 gYkxGN\"><span class=\"sc-17hyc2s-1 cCiQWA\">₹249</span></div></div></div>, <div class=\"sc-1s0saks-11 cYGeYt\"><div class=\"sc-1s0saks-13 kQHKsO\"><h4 class=\"sc-1s0saks-15 iSmBPS\">Gongura Kodi Kura</h4><div class=\"sc-17hyc2s-3 jOoliK sc-1s0saks-8 gYkxGN\"><span class=\"sc-17hyc2s-1 cCiQWA\">₹349</span></div></div></div>, <div class=\"sc-1s0saks-11 cYGeYt\"><div class=\"sc-1s0saks-13 kQHKsO\"><h4 class=\"sc-1s0saks-15 iSmBPS\">Miriyala Kodi Kura</h4><div class=\"sc-17hyc2s-3 jOoliK sc-1s0saks-8 gYkxGN\"><span class=\"sc-17hyc2s-1 cCiQWA\">₹349</span></div></div></div>, <div class=\"sc-1s0saks-11 cYGeYt\"><div class=\"sc-1s0saks-13 kQHKsO\"><h4 class=\"sc-1s0saks-15 iSmBPS\">Guntur Kodi Kura</h4><div class=\"sc-1s0saks-1 dpXgPd\"><div class=\"sc-1s0saks-2 jYdcVk\"><div class=\"sc-2gamf4-0 bFcyiI\" font-size=\"1.2rem\" type=\"tag\">SPICY</div></div></div><div class=\"sc-17hyc2s-3 jOoliK sc-1s0saks-8 gYkxGN\"><span class=\"sc-17hyc2s-1 cCiQWA\">₹349</span></div></div></div>, <div class=\"sc-1s0saks-11 cYGeYt\"><div class=\"sc-1s0saks-13 kQHKsO\"><h4 class=\"sc-1s0saks-15 iSmBPS\">Nattukodi Pulusu</h4><div class=\"sc-17hyc2s-3 jOoliK sc-1s0saks-8 gYkxGN\"><span class=\"sc-17hyc2s-1 cCiQWA\">₹399</span></div></div></div>, <div class=\"sc-1s0saks-11 cYGeYt\"><div class=\"sc-1s0saks-13 kQHKsO\"><h4 class=\"sc-1s0saks-15 iSmBPS\">Telangana Mamsam Kura</h4><div class=\"sc-17hyc2s-3 jOoliK sc-1s0saks-8 gYkxGN\"><span class=\"sc-17hyc2s-1 cCiQWA\">₹429</span></div></div></div>, <div class=\"sc-1s0saks-11 cYGeYt\"><div class=\"sc-1s0saks-13 kQHKsO\"><h4 class=\"sc-1s0saks-15 iSmBPS\">Keema Kura</h4><div class=\"sc-17hyc2s-3 jOoliK sc-1s0saks-8 gYkxGN\"><span class=\"sc-17hyc2s-1 cCiQWA\">₹429</span></div></div></div>, <div class=\"sc-1s0saks-11 cYGeYt\"><div class=\"sc-1s0saks-13 kQHKsO\"><h4 class=\"sc-1s0saks-15 iSmBPS\">Gongura Mamsam Kura</h4><div class=\"sc-17hyc2s-3 jOoliK sc-1s0saks-8 gYkxGN\"><span class=\"sc-17hyc2s-1 cCiQWA\">₹429</span></div></div></div>, <div class=\"sc-1s0saks-11 cYGeYt\"><div class=\"sc-1s0saks-13 kQHKsO\"><h4 class=\"sc-1s0saks-15 iSmBPS\">Mutton Iguru</h4><div class=\"sc-17hyc2s-3 jOoliK sc-1s0saks-8 gYkxGN\"><span class=\"sc-17hyc2s-1 cCiQWA\">₹429</span></div></div></div>, <div class=\"sc-1s0saks-11 cYGeYt\"><div class=\"sc-1s0saks-13 kQHKsO\"><h4 class=\"sc-1s0saks-15 iSmBPS\">Nellore Chepala Pulusu</h4><div class=\"sc-17hyc2s-3 jOoliK sc-1s0saks-8 gYkxGN\"><span class=\"sc-17hyc2s-1 cCiQWA\">₹449</span></div></div></div>, <div class=\"sc-1s0saks-11 cYGeYt\"><div class=\"sc-1s0saks-13 kQHKsO\"><h4 class=\"sc-1s0saks-15 iSmBPS\">Royyala Iguru</h4><div class=\"sc-17hyc2s-3 jOoliK sc-1s0saks-8 gYkxGN\"><span class=\"sc-17hyc2s-1 cCiQWA\">₹449</span></div></div></div>, <div class=\"sc-1s0saks-11 cYGeYt\"><div class=\"sc-1s0saks-13 kQHKsO\"><h4 class=\"sc-1s0saks-15 iSmBPS\">Lachha Paratha</h4><div class=\"sc-17hyc2s-3 jOoliK sc-1s0saks-8 gYkxGN\"><span class=\"sc-17hyc2s-1 cCiQWA\">₹90</span></div></div></div>, <div class=\"sc-1s0saks-11 cYGeYt\"><div class=\"sc-1s0saks-13 kQHKsO\"><h4 class=\"sc-1s0saks-15 iSmBPS\">Methi Paratha</h4><div class=\"sc-17hyc2s-3 jOoliK sc-1s0saks-8 gYkxGN\"><span class=\"sc-17hyc2s-1 cCiQWA\">₹90</span></div></div></div>, <div class=\"sc-1s0saks-11 cYGeYt\"><div class=\"sc-1s0saks-13 kQHKsO\"><h4 class=\"sc-1s0saks-15 iSmBPS\">Malabari Paratha</h4><div class=\"sc-17hyc2s-3 jOoliK sc-1s0saks-8 gYkxGN\"><span class=\"sc-17hyc2s-1 cCiQWA\">₹90</span></div></div></div>, <div class=\"sc-1s0saks-11 cYGeYt\"><div class=\"sc-1s0saks-13 kQHKsO\"><h4 class=\"sc-1s0saks-15 iSmBPS\">Masaledar Roti</h4><div class=\"sc-17hyc2s-3 jOoliK sc-1s0saks-8 gYkxGN\"><span class=\"sc-17hyc2s-1 cCiQWA\">₹90</span></div></div></div>, <div class=\"sc-1s0saks-11 cYGeYt\"><div class=\"sc-1s0saks-13 kQHKsO\"><h4 class=\"sc-1s0saks-15 iSmBPS\">Hara Bara Lachhedar Paratha</h4><div class=\"sc-17hyc2s-3 jOoliK sc-1s0saks-8 gYkxGN\"><span class=\"sc-17hyc2s-1 cCiQWA\">₹90</span></div></div></div>, <div class=\"sc-1s0saks-11 cYGeYt\"><div class=\"sc-1s0saks-13 kQHKsO\"><h4 class=\"sc-1s0saks-15 iSmBPS\">Achari Roti</h4><div class=\"sc-17hyc2s-3 jOoliK sc-1s0saks-8 gYkxGN\"><span class=\"sc-17hyc2s-1 cCiQWA\">₹90</span></div></div></div>, <div class=\"sc-1s0saks-11 cYGeYt\"><div class=\"sc-1s0saks-13 kQHKsO\"><h4 class=\"sc-1s0saks-15 iSmBPS\">Plain Tandoori Roti</h4><div class=\"sc-17hyc2s-3 jOoliK sc-1s0saks-8 gYkxGN\"><span class=\"sc-17hyc2s-1 cCiQWA\">₹60</span></div></div></div>, <div class=\"sc-1s0saks-11 cYGeYt\"><div class=\"sc-1s0saks-13 kQHKsO\"><h4 class=\"sc-1s0saks-15 iSmBPS\">Butter Tandoori Roti</h4><div class=\"sc-17hyc2s-3 jOoliK sc-1s0saks-8 gYkxGN\"><span class=\"sc-17hyc2s-1 cCiQWA\">₹60</span></div></div></div>, <div class=\"sc-1s0saks-11 cYGeYt\"><div class=\"sc-1s0saks-13 kQHKsO\"><h4 class=\"sc-1s0saks-15 iSmBPS\">Plain Naan</h4><div class=\"sc-17hyc2s-3 jOoliK sc-1s0saks-8 gYkxGN\"><span class=\"sc-17hyc2s-1 cCiQWA\">₹70</span></div></div></div>, <div class=\"sc-1s0saks-11 cYGeYt\"><div class=\"sc-1s0saks-13 kQHKsO\"><h4 class=\"sc-1s0saks-15 iSmBPS\">Butter Naan</h4><div class=\"sc-17hyc2s-3 jOoliK sc-1s0saks-8 gYkxGN\"><span class=\"sc-17hyc2s-1 cCiQWA\">₹70</span></div></div></div>, <div class=\"sc-1s0saks-11 cYGeYt\"><div class=\"sc-1s0saks-13 kQHKsO\"><h4 class=\"sc-1s0saks-15 iSmBPS\">Ulavacharu Veg Pulao</h4><div class=\"sc-z30xqq-2 dnSIjs sc-1s0saks-9 kNjbyv\"><div class=\"sc-z30xqq-3 bewuUV\"><i class=\"sc-rbbb40-1 iFnyeo sc-z30xqq-0 fehnhH\" color=\"#F3C117\" size=\"14\"><svg aria-labelledby=\"icon-svg-title- icon-svg-desc-\" class=\"sc-rbbb40-0 kyPUnV\" fill=\"#F3C117\" height=\"14\" role=\"img\" viewbox=\"0 0 20 20\" width=\"14\" xmlns=\"http://www.w3.org/2000/svg\"><title>star-fill</title><path d=\"M6.76 6.8l-6.38 0.96c-0.22 0.040-0.38 0.22-0.38 0.44 0 0.12 0.040 0.24 0.12 0.32v0l4.64 4.76-1.1 6.66c0 0.020 0 0.040 0 0.080 0 0.24 0.2 0.44 0.44 0.44 0.1 0 0.16-0.020 0.24-0.060v0l5.7-3.12 5.68 3.12c0.060 0.040 0.14 0.060 0.22 0.060 0.24 0 0.44-0.2 0.44-0.44 0-0.040 0-0.060 0-0.080v0l-1.1-6.66 4.64-4.76c0.080-0.080 0.12-0.2 0.12-0.32 0-0.22-0.16-0.4-0.36-0.44h-0.020l-6.38-0.96-2.96-6.18c-0.060-0.12-0.18-0.2-0.32-0.2s-0.26 0.080-0.32 0.2v0z\"></path></svg></i><i class=\"sc-rbbb40-1 iFnyeo sc-z30xqq-0 fehnhH\" color=\"#F3C117\" size=\"14\"><svg aria-labelledby=\"icon-svg-title- icon-svg-desc-\" class=\"sc-rbbb40-0 kyPUnV\" fill=\"#F3C117\" height=\"14\" role=\"img\" viewbox=\"0 0 20 20\" width=\"14\" xmlns=\"http://www.w3.org/2000/svg\"><title>star-fill</title><path d=\"M6.76 6.8l-6.38 0.96c-0.22 0.040-0.38 0.22-0.38 0.44 0 0.12 0.040 0.24 0.12 0.32v0l4.64 4.76-1.1 6.66c0 0.020 0 0.040 0 0.080 0 0.24 0.2 0.44 0.44 0.44 0.1 0 0.16-0.020 0.24-0.060v0l5.7-3.12 5.68 3.12c0.060 0.040 0.14 0.060 0.22 0.060 0.24 0 0.44-0.2 0.44-0.44 0-0.040 0-0.060 0-0.080v0l-1.1-6.66 4.64-4.76c0.080-0.080 0.12-0.2 0.12-0.32 0-0.22-0.16-0.4-0.36-0.44h-0.020l-6.38-0.96-2.96-6.18c-0.060-0.12-0.18-0.2-0.32-0.2s-0.26 0.080-0.32 0.2v0z\"></path></svg></i><i class=\"sc-rbbb40-1 iFnyeo sc-z30xqq-0 fehnhH\" color=\"#F3C117\" size=\"14\"><svg aria-labelledby=\"icon-svg-title- icon-svg-desc-\" class=\"sc-rbbb40-0 kyPUnV\" fill=\"#F3C117\" height=\"14\" role=\"img\" viewbox=\"0 0 20 20\" width=\"14\" xmlns=\"http://www.w3.org/2000/svg\"><title>star-fill</title><path d=\"M6.76 6.8l-6.38 0.96c-0.22 0.040-0.38 0.22-0.38 0.44 0 0.12 0.040 0.24 0.12 0.32v0l4.64 4.76-1.1 6.66c0 0.020 0 0.040 0 0.080 0 0.24 0.2 0.44 0.44 0.44 0.1 0 0.16-0.020 0.24-0.060v0l5.7-3.12 5.68 3.12c0.060 0.040 0.14 0.060 0.22 0.060 0.24 0 0.44-0.2 0.44-0.44 0-0.040 0-0.060 0-0.080v0l-1.1-6.66 4.64-4.76c0.080-0.080 0.12-0.2 0.12-0.32 0-0.22-0.16-0.4-0.36-0.44h-0.020l-6.38-0.96-2.96-6.18c-0.060-0.12-0.18-0.2-0.32-0.2s-0.26 0.080-0.32 0.2v0z\"></path></svg></i><i class=\"sc-rbbb40-1 iFnyeo sc-z30xqq-1 heKqFw\" color=\"#F3C117\" size=\"14\"><svg aria-labelledby=\"icon-svg-title- icon-svg-desc-\" class=\"sc-rbbb40-0 kyPUnV\" fill=\"#F3C117\" height=\"14\" role=\"img\" viewbox=\"0 0 20 20\" width=\"14\" xmlns=\"http://www.w3.org/2000/svg\"><lineargradient id=\"clt8puh4y002p3578op0p83v7\" x1=\"0\" x2=\"100%\" y1=\"0\" y2=\"0\"><stop offset=\"0\" stop-color=\"#F3C117\"></stop><stop offset=\"18%\" stop-color=\"#F3C117\"></stop><stop offset=\"19%\" stop-color=\"#E8E8E8\"></stop><stop offset=\"1\" stop-color=\"#E8E8E8\"></stop></lineargradient><path d=\"M6.76 6.8l-6.38 0.96c-0.22 0.040-0.38 0.22-0.38 0.44 0 0.12 0.040 0.24 0.12 0.32v0l4.64 4.76-1.1 6.66c0 0.020 0 0.040 0 0.080 0 0.24 0.2 0.44 0.44 0.44 0.1 0 0.16-0.020 0.24-0.060v0l5.7-3.12 5.68 3.12c0.060 0.040 0.14 0.060 0.22 0.060 0.24 0 0.44-0.2 0.44-0.44 0-0.040 0-0.060 0-0.080v0l-1.1-6.66 4.64-4.76c0.080-0.080 0.12-0.2 0.12-0.32 0-0.22-0.16-0.4-0.36-0.44h-0.020l-6.38-0.96-2.96-6.18c-0.060-0.12-0.18-0.2-0.32-0.2s-0.26 0.080-0.32 0.2v0z\" fill=\"url(#clt8puh4y002p3578op0p83v7)\"></path></svg></i><i class=\"sc-rbbb40-1 iFnyeo sc-z30xqq-0 fehnhH\" color=\"#E8E8E8\" size=\"14\"><svg aria-labelledby=\"icon-svg-title- icon-svg-desc-\" class=\"sc-rbbb40-0 kyPUnV\" fill=\"#E8E8E8\" height=\"14\" role=\"img\" viewbox=\"0 0 20 20\" width=\"14\" xmlns=\"http://www.w3.org/2000/svg\"><title>star-fill</title><path d=\"M6.76 6.8l-6.38 0.96c-0.22 0.040-0.38 0.22-0.38 0.44 0 0.12 0.040 0.24 0.12 0.32v0l4.64 4.76-1.1 6.66c0 0.020 0 0.040 0 0.080 0 0.24 0.2 0.44 0.44 0.44 0.1 0 0.16-0.020 0.24-0.060v0l5.7-3.12 5.68 3.12c0.060 0.040 0.14 0.060 0.22 0.060 0.24 0 0.44-0.2 0.44-0.44 0-0.040 0-0.060 0-0.080v0l-1.1-6.66 4.64-4.76c0.080-0.080 0.12-0.2 0.12-0.32 0-0.22-0.16-0.4-0.36-0.44h-0.020l-6.38-0.96-2.96-6.18c-0.060-0.12-0.18-0.2-0.32-0.2s-0.26 0.080-0.32 0.2v0z\"></path></svg></i></div><span class=\"sc-z30xqq-4 hTgtKb\">7 votes</span></div><div class=\"sc-17hyc2s-3 jOoliK sc-1s0saks-8 gYkxGN\"><span class=\"sc-17hyc2s-1 cCiQWA\">₹299</span></div></div></div>, <div class=\"sc-1s0saks-11 cYGeYt\"><div class=\"sc-1s0saks-13 kQHKsO\"><h4 class=\"sc-1s0saks-15 iSmBPS\">Pachhi Mirchi Veg Pulao</h4><div class=\"sc-17hyc2s-3 jOoliK sc-1s0saks-8 gYkxGN\"><span class=\"sc-17hyc2s-1 cCiQWA\">₹329</span></div></div></div>, <div class=\"sc-1s0saks-11 cYGeYt\"><div class=\"sc-1s0saks-13 kQHKsO\"><h4 class=\"sc-1s0saks-15 iSmBPS\">Avakai Veg Pulao</h4><div class=\"sc-17hyc2s-3 jOoliK sc-1s0saks-8 gYkxGN\"><span class=\"sc-17hyc2s-1 cCiQWA\">₹329</span></div></div></div>, <div class=\"sc-1s0saks-11 cYGeYt\"><div class=\"sc-1s0saks-13 kQHKsO\"><h4 class=\"sc-1s0saks-15 iSmBPS\">Mudda Pappu Avakai Annam</h4><div class=\"sc-z30xqq-2 dnSIjs sc-1s0saks-9 kNjbyv\"><div class=\"sc-z30xqq-3 bewuUV\"><i class=\"sc-rbbb40-1 iFnyeo sc-z30xqq-0 fehnhH\" color=\"#F3C117\" size=\"14\"><svg aria-labelledby=\"icon-svg-title- icon-svg-desc-\" class=\"sc-rbbb40-0 kyPUnV\" fill=\"#F3C117\" height=\"14\" role=\"img\" viewbox=\"0 0 20 20\" width=\"14\" xmlns=\"http://www.w3.org/2000/svg\"><title>star-fill</title><path d=\"M6.76 6.8l-6.38 0.96c-0.22 0.040-0.38 0.22-0.38 0.44 0 0.12 0.040 0.24 0.12 0.32v0l4.64 4.76-1.1 6.66c0 0.020 0 0.040 0 0.080 0 0.24 0.2 0.44 0.44 0.44 0.1 0 0.16-0.020 0.24-0.060v0l5.7-3.12 5.68 3.12c0.060 0.040 0.14 0.060 0.22 0.060 0.24 0 0.44-0.2 0.44-0.44 0-0.040 0-0.060 0-0.080v0l-1.1-6.66 4.64-4.76c0.080-0.080 0.12-0.2 0.12-0.32 0-0.22-0.16-0.4-0.36-0.44h-0.020l-6.38-0.96-2.96-6.18c-0.060-0.12-0.18-0.2-0.32-0.2s-0.26 0.080-0.32 0.2v0z\"></path></svg></i><i class=\"sc-rbbb40-1 iFnyeo sc-z30xqq-0 fehnhH\" color=\"#F3C117\" size=\"14\"><svg aria-labelledby=\"icon-svg-title- icon-svg-desc-\" class=\"sc-rbbb40-0 kyPUnV\" fill=\"#F3C117\" height=\"14\" role=\"img\" viewbox=\"0 0 20 20\" width=\"14\" xmlns=\"http://www.w3.org/2000/svg\"><title>star-fill</title><path d=\"M6.76 6.8l-6.38 0.96c-0.22 0.040-0.38 0.22-0.38 0.44 0 0.12 0.040 0.24 0.12 0.32v0l4.64 4.76-1.1 6.66c0 0.020 0 0.040 0 0.080 0 0.24 0.2 0.44 0.44 0.44 0.1 0 0.16-0.020 0.24-0.060v0l5.7-3.12 5.68 3.12c0.060 0.040 0.14 0.060 0.22 0.060 0.24 0 0.44-0.2 0.44-0.44 0-0.040 0-0.060 0-0.080v0l-1.1-6.66 4.64-4.76c0.080-0.080 0.12-0.2 0.12-0.32 0-0.22-0.16-0.4-0.36-0.44h-0.020l-6.38-0.96-2.96-6.18c-0.060-0.12-0.18-0.2-0.32-0.2s-0.26 0.080-0.32 0.2v0z\"></path></svg></i><i class=\"sc-rbbb40-1 iFnyeo sc-z30xqq-0 fehnhH\" color=\"#F3C117\" size=\"14\"><svg aria-labelledby=\"icon-svg-title- icon-svg-desc-\" class=\"sc-rbbb40-0 kyPUnV\" fill=\"#F3C117\" height=\"14\" role=\"img\" viewbox=\"0 0 20 20\" width=\"14\" xmlns=\"http://www.w3.org/2000/svg\"><title>star-fill</title><path d=\"M6.76 6.8l-6.38 0.96c-0.22 0.040-0.38 0.22-0.38 0.44 0 0.12 0.040 0.24 0.12 0.32v0l4.64 4.76-1.1 6.66c0 0.020 0 0.040 0 0.080 0 0.24 0.2 0.44 0.44 0.44 0.1 0 0.16-0.020 0.24-0.060v0l5.7-3.12 5.68 3.12c0.060 0.040 0.14 0.060 0.22 0.060 0.24 0 0.44-0.2 0.44-0.44 0-0.040 0-0.060 0-0.080v0l-1.1-6.66 4.64-4.76c0.080-0.080 0.12-0.2 0.12-0.32 0-0.22-0.16-0.4-0.36-0.44h-0.020l-6.38-0.96-2.96-6.18c-0.060-0.12-0.18-0.2-0.32-0.2s-0.26 0.080-0.32 0.2v0z\"></path></svg></i><i class=\"sc-rbbb40-1 iFnyeo sc-z30xqq-1 heKqFw\" color=\"#F3C117\" size=\"14\"><svg aria-labelledby=\"icon-svg-title- icon-svg-desc-\" class=\"sc-rbbb40-0 kyPUnV\" fill=\"#F3C117\" height=\"14\" role=\"img\" viewbox=\"0 0 20 20\" width=\"14\" xmlns=\"http://www.w3.org/2000/svg\"><lineargradient id=\"clt8puh50002x357832a29zjp\" x1=\"0\" x2=\"100%\" y1=\"0\" y2=\"0\"><stop offset=\"0\" stop-color=\"#F3C117\"></stop><stop offset=\"93%\" stop-color=\"#F3C117\"></stop><stop offset=\"94%\" stop-color=\"#E8E8E8\"></stop><stop offset=\"1\" stop-color=\"#E8E8E8\"></stop></lineargradient><path d=\"M6.76 6.8l-6.38 0.96c-0.22 0.040-0.38 0.22-0.38 0.44 0 0.12 0.040 0.24 0.12 0.32v0l4.64 4.76-1.1 6.66c0 0.020 0 0.040 0 0.080 0 0.24 0.2 0.44 0.44 0.44 0.1 0 0.16-0.020 0.24-0.060v0l5.7-3.12 5.68 3.12c0.060 0.040 0.14 0.060 0.22 0.060 0.24 0 0.44-0.2 0.44-0.44 0-0.040 0-0.060 0-0.080v0l-1.1-6.66 4.64-4.76c0.080-0.080 0.12-0.2 0.12-0.32 0-0.22-0.16-0.4-0.36-0.44h-0.020l-6.38-0.96-2.96-6.18c-0.060-0.12-0.18-0.2-0.32-0.2s-0.26 0.080-0.32 0.2v0z\" fill=\"url(#clt8puh50002x357832a29zjp)\"></path></svg></i><i class=\"sc-rbbb40-1 iFnyeo sc-z30xqq-0 fehnhH\" color=\"#E8E8E8\" size=\"14\"><svg aria-labelledby=\"icon-svg-title- icon-svg-desc-\" class=\"sc-rbbb40-0 kyPUnV\" fill=\"#E8E8E8\" height=\"14\" role=\"img\" viewbox=\"0 0 20 20\" width=\"14\" xmlns=\"http://www.w3.org/2000/svg\"><title>star-fill</title><path d=\"M6.76 6.8l-6.38 0.96c-0.22 0.040-0.38 0.22-0.38 0.44 0 0.12 0.040 0.24 0.12 0.32v0l4.64 4.76-1.1 6.66c0 0.020 0 0.040 0 0.080 0 0.24 0.2 0.44 0.44 0.44 0.1 0 0.16-0.020 0.24-0.060v0l5.7-3.12 5.68 3.12c0.060 0.040 0.14 0.060 0.22 0.060 0.24 0 0.44-0.2 0.44-0.44 0-0.040 0-0.060 0-0.080v0l-1.1-6.66 4.64-4.76c0.080-0.080 0.12-0.2 0.12-0.32 0-0.22-0.16-0.4-0.36-0.44h-0.020l-6.38-0.96-2.96-6.18c-0.060-0.12-0.18-0.2-0.32-0.2s-0.26 0.080-0.32 0.2v0z\"></path></svg></i></div><span class=\"sc-z30xqq-4 hTgtKb\">77 votes</span></div><div class=\"sc-17hyc2s-3 jOoliK sc-1s0saks-8 gYkxGN\"><span class=\"sc-17hyc2s-1 cCiQWA\">₹249</span></div></div></div>, <div class=\"sc-1s0saks-11 cYGeYt\"><div class=\"sc-1s0saks-13 kQHKsO\"><h4 class=\"sc-1s0saks-15 iSmBPS\">Perugu Annam</h4><div class=\"sc-z30xqq-2 dnSIjs sc-1s0saks-9 kNjbyv\"><div class=\"sc-z30xqq-3 bewuUV\"><i class=\"sc-rbbb40-1 iFnyeo sc-z30xqq-0 fehnhH\" color=\"#F3C117\" size=\"14\"><svg aria-labelledby=\"icon-svg-title- icon-svg-desc-\" class=\"sc-rbbb40-0 kyPUnV\" fill=\"#F3C117\" height=\"14\" role=\"img\" viewbox=\"0 0 20 20\" width=\"14\" xmlns=\"http://www.w3.org/2000/svg\"><title>star-fill</title><path d=\"M6.76 6.8l-6.38 0.96c-0.22 0.040-0.38 0.22-0.38 0.44 0 0.12 0.040 0.24 0.12 0.32v0l4.64 4.76-1.1 6.66c0 0.020 0 0.040 0 0.080 0 0.24 0.2 0.44 0.44 0.44 0.1 0 0.16-0.020 0.24-0.060v0l5.7-3.12 5.68 3.12c0.060 0.040 0.14 0.060 0.22 0.060 0.24 0 0.44-0.2 0.44-0.44 0-0.040 0-0.060 0-0.080v0l-1.1-6.66 4.64-4.76c0.080-0.080 0.12-0.2 0.12-0.32 0-0.22-0.16-0.4-0.36-0.44h-0.020l-6.38-0.96-2.96-6.18c-0.060-0.12-0.18-0.2-0.32-0.2s-0.26 0.080-0.32 0.2v0z\"></path></svg></i><i class=\"sc-rbbb40-1 iFnyeo sc-z30xqq-0 fehnhH\" color=\"#F3C117\" size=\"14\"><svg aria-labelledby=\"icon-svg-title- icon-svg-desc-\" class=\"sc-rbbb40-0 kyPUnV\" fill=\"#F3C117\" height=\"14\" role=\"img\" viewbox=\"0 0 20 20\" width=\"14\" xmlns=\"http://www.w3.org/2000/svg\"><title>star-fill</title><path d=\"M6.76 6.8l-6.38 0.96c-0.22 0.040-0.38 0.22-0.38 0.44 0 0.12 0.040 0.24 0.12 0.32v0l4.64 4.76-1.1 6.66c0 0.020 0 0.040 0 0.080 0 0.24 0.2 0.44 0.44 0.44 0.1 0 0.16-0.020 0.24-0.060v0l5.7-3.12 5.68 3.12c0.060 0.040 0.14 0.060 0.22 0.060 0.24 0 0.44-0.2 0.44-0.44 0-0.040 0-0.060 0-0.080v0l-1.1-6.66 4.64-4.76c0.080-0.080 0.12-0.2 0.12-0.32 0-0.22-0.16-0.4-0.36-0.44h-0.020l-6.38-0.96-2.96-6.18c-0.060-0.12-0.18-0.2-0.32-0.2s-0.26 0.080-0.32 0.2v0z\"></path></svg></i><i class=\"sc-rbbb40-1 iFnyeo sc-z30xqq-0 fehnhH\" color=\"#F3C117\" size=\"14\"><svg aria-labelledby=\"icon-svg-title- icon-svg-desc-\" class=\"sc-rbbb40-0 kyPUnV\" fill=\"#F3C117\" height=\"14\" role=\"img\" viewbox=\"0 0 20 20\" width=\"14\" xmlns=\"http://www.w3.org/2000/svg\"><title>star-fill</title><path d=\"M6.76 6.8l-6.38 0.96c-0.22 0.040-0.38 0.22-0.38 0.44 0 0.12 0.040 0.24 0.12 0.32v0l4.64 4.76-1.1 6.66c0 0.020 0 0.040 0 0.080 0 0.24 0.2 0.44 0.44 0.44 0.1 0 0.16-0.020 0.24-0.060v0l5.7-3.12 5.68 3.12c0.060 0.040 0.14 0.060 0.22 0.060 0.24 0 0.44-0.2 0.44-0.44 0-0.040 0-0.060 0-0.080v0l-1.1-6.66 4.64-4.76c0.080-0.080 0.12-0.2 0.12-0.32 0-0.22-0.16-0.4-0.36-0.44h-0.020l-6.38-0.96-2.96-6.18c-0.060-0.12-0.18-0.2-0.32-0.2s-0.26 0.080-0.32 0.2v0z\"></path></svg></i><i class=\"sc-rbbb40-1 iFnyeo sc-z30xqq-0 fehnhH\" color=\"#F3C117\" size=\"14\"><svg aria-labelledby=\"icon-svg-title- icon-svg-desc-\" class=\"sc-rbbb40-0 kyPUnV\" fill=\"#F3C117\" height=\"14\" role=\"img\" viewbox=\"0 0 20 20\" width=\"14\" xmlns=\"http://www.w3.org/2000/svg\"><title>star-fill</title><path d=\"M6.76 6.8l-6.38 0.96c-0.22 0.040-0.38 0.22-0.38 0.44 0 0.12 0.040 0.24 0.12 0.32v0l4.64 4.76-1.1 6.66c0 0.020 0 0.040 0 0.080 0 0.24 0.2 0.44 0.44 0.44 0.1 0 0.16-0.020 0.24-0.060v0l5.7-3.12 5.68 3.12c0.060 0.040 0.14 0.060 0.22 0.060 0.24 0 0.44-0.2 0.44-0.44 0-0.040 0-0.060 0-0.080v0l-1.1-6.66 4.64-4.76c0.080-0.080 0.12-0.2 0.12-0.32 0-0.22-0.16-0.4-0.36-0.44h-0.020l-6.38-0.96-2.96-6.18c-0.060-0.12-0.18-0.2-0.32-0.2s-0.26 0.080-0.32 0.2v0z\"></path></svg></i><i class=\"sc-rbbb40-1 iFnyeo sc-z30xqq-1 heKqFw\" color=\"#F3C117\" size=\"14\"><svg aria-labelledby=\"icon-svg-title- icon-svg-desc-\" class=\"sc-rbbb40-0 kyPUnV\" fill=\"#F3C117\" height=\"14\" role=\"img\" viewbox=\"0 0 20 20\" width=\"14\" xmlns=\"http://www.w3.org/2000/svg\"><lineargradient id=\"clt8puh51003435784utnn788\" x1=\"0\" x2=\"100%\" y1=\"0\" y2=\"0\"><stop offset=\"0\" stop-color=\"#F3C117\"></stop><stop offset=\"29%\" stop-color=\"#F3C117\"></stop><stop offset=\"30%\" stop-color=\"#E8E8E8\"></stop><stop offset=\"1\" stop-color=\"#E8E8E8\"></stop></lineargradient><path d=\"M6.76 6.8l-6.38 0.96c-0.22 0.040-0.38 0.22-0.38 0.44 0 0.12 0.040 0.24 0.12 0.32v0l4.64 4.76-1.1 6.66c0 0.020 0 0.040 0 0.080 0 0.24 0.2 0.44 0.44 0.44 0.1 0 0.16-0.020 0.24-0.060v0l5.7-3.12 5.68 3.12c0.060 0.040 0.14 0.060 0.22 0.060 0.24 0 0.44-0.2 0.44-0.44 0-0.040 0-0.060 0-0.080v0l-1.1-6.66 4.64-4.76c0.080-0.080 0.12-0.2 0.12-0.32 0-0.22-0.16-0.4-0.36-0.44h-0.020l-6.38-0.96-2.96-6.18c-0.060-0.12-0.18-0.2-0.32-0.2s-0.26 0.080-0.32 0.2v0z\" fill=\"url(#clt8puh51003435784utnn788)\"></path></svg></i></div><span class=\"sc-z30xqq-4 hTgtKb\">35 votes</span></div><div class=\"sc-17hyc2s-3 jOoliK sc-1s0saks-8 gYkxGN\"><span class=\"sc-17hyc2s-1 cCiQWA\">₹199</span></div></div></div>, <div class=\"sc-1s0saks-11 cYGeYt\"><div class=\"sc-1s0saks-13 kQHKsO\"><h4 class=\"sc-1s0saks-15 iSmBPS\">Pachhi Mirchi Kodi Pilao</h4><div class=\"sc-z30xqq-2 dnSIjs sc-1s0saks-9 kNjbyv\"><div class=\"sc-z30xqq-3 bewuUV\"><i class=\"sc-rbbb40-1 iFnyeo sc-z30xqq-0 fehnhH\" color=\"#F3C117\" size=\"14\"><svg aria-labelledby=\"icon-svg-title- icon-svg-desc-\" class=\"sc-rbbb40-0 kyPUnV\" fill=\"#F3C117\" height=\"14\" role=\"img\" viewbox=\"0 0 20 20\" width=\"14\" xmlns=\"http://www.w3.org/2000/svg\"><title>star-fill</title><path d=\"M6.76 6.8l-6.38 0.96c-0.22 0.040-0.38 0.22-0.38 0.44 0 0.12 0.040 0.24 0.12 0.32v0l4.64 4.76-1.1 6.66c0 0.020 0 0.040 0 0.080 0 0.24 0.2 0.44 0.44 0.44 0.1 0 0.16-0.020 0.24-0.060v0l5.7-3.12 5.68 3.12c0.060 0.040 0.14 0.060 0.22 0.060 0.24 0 0.44-0.2 0.44-0.44 0-0.040 0-0.060 0-0.080v0l-1.1-6.66 4.64-4.76c0.080-0.080 0.12-0.2 0.12-0.32 0-0.22-0.16-0.4-0.36-0.44h-0.020l-6.38-0.96-2.96-6.18c-0.060-0.12-0.18-0.2-0.32-0.2s-0.26 0.080-0.32 0.2v0z\"></path></svg></i><i class=\"sc-rbbb40-1 iFnyeo sc-z30xqq-0 fehnhH\" color=\"#F3C117\" size=\"14\"><svg aria-labelledby=\"icon-svg-title- icon-svg-desc-\" class=\"sc-rbbb40-0 kyPUnV\" fill=\"#F3C117\" height=\"14\" role=\"img\" viewbox=\"0 0 20 20\" width=\"14\" xmlns=\"http://www.w3.org/2000/svg\"><title>star-fill</title><path d=\"M6.76 6.8l-6.38 0.96c-0.22 0.040-0.38 0.22-0.38 0.44 0 0.12 0.040 0.24 0.12 0.32v0l4.64 4.76-1.1 6.66c0 0.020 0 0.040 0 0.080 0 0.24 0.2 0.44 0.44 0.44 0.1 0 0.16-0.020 0.24-0.060v0l5.7-3.12 5.68 3.12c0.060 0.040 0.14 0.060 0.22 0.060 0.24 0 0.44-0.2 0.44-0.44 0-0.040 0-0.060 0-0.080v0l-1.1-6.66 4.64-4.76c0.080-0.080 0.12-0.2 0.12-0.32 0-0.22-0.16-0.4-0.36-0.44h-0.020l-6.38-0.96-2.96-6.18c-0.060-0.12-0.18-0.2-0.32-0.2s-0.26 0.080-0.32 0.2v0z\"></path></svg></i><i class=\"sc-rbbb40-1 iFnyeo sc-z30xqq-0 fehnhH\" color=\"#F3C117\" size=\"14\"><svg aria-labelledby=\"icon-svg-title- icon-svg-desc-\" class=\"sc-rbbb40-0 kyPUnV\" fill=\"#F3C117\" height=\"14\" role=\"img\" viewbox=\"0 0 20 20\" width=\"14\" xmlns=\"http://www.w3.org/2000/svg\"><title>star-fill</title><path d=\"M6.76 6.8l-6.38 0.96c-0.22 0.040-0.38 0.22-0.38 0.44 0 0.12 0.040 0.24 0.12 0.32v0l4.64 4.76-1.1 6.66c0 0.020 0 0.040 0 0.080 0 0.24 0.2 0.44 0.44 0.44 0.1 0 0.16-0.020 0.24-0.060v0l5.7-3.12 5.68 3.12c0.060 0.040 0.14 0.060 0.22 0.060 0.24 0 0.44-0.2 0.44-0.44 0-0.040 0-0.060 0-0.080v0l-1.1-6.66 4.64-4.76c0.080-0.080 0.12-0.2 0.12-0.32 0-0.22-0.16-0.4-0.36-0.44h-0.020l-6.38-0.96-2.96-6.18c-0.060-0.12-0.18-0.2-0.32-0.2s-0.26 0.080-0.32 0.2v0z\"></path></svg></i><i class=\"sc-rbbb40-1 iFnyeo sc-z30xqq-1 heKqFw\" color=\"#F3C117\" size=\"14\"><svg aria-labelledby=\"icon-svg-title- icon-svg-desc-\" class=\"sc-rbbb40-0 kyPUnV\" fill=\"#F3C117\" height=\"14\" role=\"img\" viewbox=\"0 0 20 20\" width=\"14\" xmlns=\"http://www.w3.org/2000/svg\"><lineargradient id=\"clt8puh52003935788nioxfdp\" x1=\"0\" x2=\"100%\" y1=\"0\" y2=\"0\"><stop offset=\"0\" stop-color=\"#F3C117\"></stop><stop offset=\"56%\" stop-color=\"#F3C117\"></stop><stop offset=\"57%\" stop-color=\"#E8E8E8\"></stop><stop offset=\"1\" stop-color=\"#E8E8E8\"></stop></lineargradient><path d=\"M6.76 6.8l-6.38 0.96c-0.22 0.040-0.38 0.22-0.38 0.44 0 0.12 0.040 0.24 0.12 0.32v0l4.64 4.76-1.1 6.66c0 0.020 0 0.040 0 0.080 0 0.24 0.2 0.44 0.44 0.44 0.1 0 0.16-0.020 0.24-0.060v0l5.7-3.12 5.68 3.12c0.060 0.040 0.14 0.060 0.22 0.060 0.24 0 0.44-0.2 0.44-0.44 0-0.040 0-0.060 0-0.080v0l-1.1-6.66 4.64-4.76c0.080-0.080 0.12-0.2 0.12-0.32 0-0.22-0.16-0.4-0.36-0.44h-0.020l-6.38-0.96-2.96-6.18c-0.060-0.12-0.18-0.2-0.32-0.2s-0.26 0.080-0.32 0.2v0z\" fill=\"url(#clt8puh52003935788nioxfdp)\"></path></svg></i><i class=\"sc-rbbb40-1 iFnyeo sc-z30xqq-0 fehnhH\" color=\"#E8E8E8\" size=\"14\"><svg aria-labelledby=\"icon-svg-title- icon-svg-desc-\" class=\"sc-rbbb40-0 kyPUnV\" fill=\"#E8E8E8\" height=\"14\" role=\"img\" viewbox=\"0 0 20 20\" width=\"14\" xmlns=\"http://www.w3.org/2000/svg\"><title>star-fill</title><path d=\"M6.76 6.8l-6.38 0.96c-0.22 0.040-0.38 0.22-0.38 0.44 0 0.12 0.040 0.24 0.12 0.32v0l4.64 4.76-1.1 6.66c0 0.020 0 0.040 0 0.080 0 0.24 0.2 0.44 0.44 0.44 0.1 0 0.16-0.020 0.24-0.060v0l5.7-3.12 5.68 3.12c0.060 0.040 0.14 0.060 0.22 0.060 0.24 0 0.44-0.2 0.44-0.44 0-0.040 0-0.060 0-0.080v0l-1.1-6.66 4.64-4.76c0.080-0.080 0.12-0.2 0.12-0.32 0-0.22-0.16-0.4-0.36-0.44h-0.020l-6.38-0.96-2.96-6.18c-0.060-0.12-0.18-0.2-0.32-0.2s-0.26 0.080-0.32 0.2v0z\"></path></svg></i></div><span class=\"sc-z30xqq-4 hTgtKb\">12 votes</span></div><div class=\"sc-17hyc2s-3 jOoliK sc-1s0saks-8 gYkxGN\"><span class=\"sc-17hyc2s-1 cCiQWA\">₹369</span></div></div></div>, <div class=\"sc-1s0saks-11 cYGeYt\"><div class=\"sc-1s0saks-13 kQHKsO\"><h4 class=\"sc-1s0saks-15 iSmBPS\">Pandu Mirchi Kodi Pulao</h4><div class=\"sc-z30xqq-2 dnSIjs sc-1s0saks-9 kNjbyv\"><div class=\"sc-z30xqq-3 bewuUV\"><i class=\"sc-rbbb40-1 iFnyeo sc-z30xqq-0 fehnhH\" color=\"#F3C117\" size=\"14\"><svg aria-labelledby=\"icon-svg-title- icon-svg-desc-\" class=\"sc-rbbb40-0 kyPUnV\" fill=\"#F3C117\" height=\"14\" role=\"img\" viewbox=\"0 0 20 20\" width=\"14\" xmlns=\"http://www.w3.org/2000/svg\"><title>star-fill</title><path d=\"M6.76 6.8l-6.38 0.96c-0.22 0.040-0.38 0.22-0.38 0.44 0 0.12 0.040 0.24 0.12 0.32v0l4.64 4.76-1.1 6.66c0 0.020 0 0.040 0 0.080 0 0.24 0.2 0.44 0.44 0.44 0.1 0 0.16-0.020 0.24-0.060v0l5.7-3.12 5.68 3.12c0.060 0.040 0.14 0.060 0.22 0.060 0.24 0 0.44-0.2 0.44-0.44 0-0.040 0-0.060 0-0.080v0l-1.1-6.66 4.64-4.76c0.080-0.080 0.12-0.2 0.12-0.32 0-0.22-0.16-0.4-0.36-0.44h-0.020l-6.38-0.96-2.96-6.18c-0.060-0.12-0.18-0.2-0.32-0.2s-0.26 0.080-0.32 0.2v0z\"></path></svg></i><i class=\"sc-rbbb40-1 iFnyeo sc-z30xqq-0 fehnhH\" color=\"#F3C117\" size=\"14\"><svg aria-labelledby=\"icon-svg-title- icon-svg-desc-\" class=\"sc-rbbb40-0 kyPUnV\" fill=\"#F3C117\" height=\"14\" role=\"img\" viewbox=\"0 0 20 20\" width=\"14\" xmlns=\"http://www.w3.org/2000/svg\"><title>star-fill</title><path d=\"M6.76 6.8l-6.38 0.96c-0.22 0.040-0.38 0.22-0.38 0.44 0 0.12 0.040 0.24 0.12 0.32v0l4.64 4.76-1.1 6.66c0 0.020 0 0.040 0 0.080 0 0.24 0.2 0.44 0.44 0.44 0.1 0 0.16-0.020 0.24-0.060v0l5.7-3.12 5.68 3.12c0.060 0.040 0.14 0.060 0.22 0.060 0.24 0 0.44-0.2 0.44-0.44 0-0.040 0-0.060 0-0.080v0l-1.1-6.66 4.64-4.76c0.080-0.080 0.12-0.2 0.12-0.32 0-0.22-0.16-0.4-0.36-0.44h-0.020l-6.38-0.96-2.96-6.18c-0.060-0.12-0.18-0.2-0.32-0.2s-0.26 0.080-0.32 0.2v0z\"></path></svg></i><i class=\"sc-rbbb40-1 iFnyeo sc-z30xqq-1 heKqFw\" color=\"#F3C117\" size=\"14\"><svg aria-labelledby=\"icon-svg-title- icon-svg-desc-\" class=\"sc-rbbb40-0 kyPUnV\" fill=\"#F3C117\" height=\"14\" role=\"img\" viewbox=\"0 0 20 20\" width=\"14\" xmlns=\"http://www.w3.org/2000/svg\"><lineargradient id=\"clt8puh53003e3578rbas3mzb\" x1=\"0\" x2=\"100%\" y1=\"0\" y2=\"0\"><stop offset=\"0\" stop-color=\"#F3C117\"></stop><stop offset=\"6%\" stop-color=\"#F3C117\"></stop><stop offset=\"7%\" stop-color=\"#E8E8E8\"></stop><stop offset=\"1\" stop-color=\"#E8E8E8\"></stop></lineargradient><path d=\"M6.76 6.8l-6.38 0.96c-0.22 0.040-0.38 0.22-0.38 0.44 0 0.12 0.040 0.24 0.12 0.32v0l4.64 4.76-1.1 6.66c0 0.020 0 0.040 0 0.080 0 0.24 0.2 0.44 0.44 0.44 0.1 0 0.16-0.020 0.24-0.060v0l5.7-3.12 5.68 3.12c0.060 0.040 0.14 0.060 0.22 0.060 0.24 0 0.44-0.2 0.44-0.44 0-0.040 0-0.060 0-0.080v0l-1.1-6.66 4.64-4.76c0.080-0.080 0.12-0.2 0.12-0.32 0-0.22-0.16-0.4-0.36-0.44h-0.020l-6.38-0.96-2.96-6.18c-0.060-0.12-0.18-0.2-0.32-0.2s-0.26 0.080-0.32 0.2v0z\" fill=\"url(#clt8puh53003e3578rbas3mzb)\"></path></svg></i><i class=\"sc-rbbb40-1 iFnyeo sc-z30xqq-0 fehnhH\" color=\"#E8E8E8\" size=\"14\"><svg aria-labelledby=\"icon-svg-title- icon-svg-desc-\" class=\"sc-rbbb40-0 kyPUnV\" fill=\"#E8E8E8\" height=\"14\" role=\"img\" viewbox=\"0 0 20 20\" width=\"14\" xmlns=\"http://www.w3.org/2000/svg\"><title>star-fill</title><path d=\"M6.76 6.8l-6.38 0.96c-0.22 0.040-0.38 0.22-0.38 0.44 0 0.12 0.040 0.24 0.12 0.32v0l4.64 4.76-1.1 6.66c0 0.020 0 0.040 0 0.080 0 0.24 0.2 0.44 0.44 0.44 0.1 0 0.16-0.020 0.24-0.060v0l5.7-3.12 5.68 3.12c0.060 0.040 0.14 0.060 0.22 0.060 0.24 0 0.44-0.2 0.44-0.44 0-0.040 0-0.060 0-0.080v0l-1.1-6.66 4.64-4.76c0.080-0.080 0.12-0.2 0.12-0.32 0-0.22-0.16-0.4-0.36-0.44h-0.020l-6.38-0.96-2.96-6.18c-0.060-0.12-0.18-0.2-0.32-0.2s-0.26 0.080-0.32 0.2v0z\"></path></svg></i><i class=\"sc-rbbb40-1 iFnyeo sc-z30xqq-0 fehnhH\" color=\"#E8E8E8\" size=\"14\"><svg aria-labelledby=\"icon-svg-title- icon-svg-desc-\" class=\"sc-rbbb40-0 kyPUnV\" fill=\"#E8E8E8\" height=\"14\" role=\"img\" viewbox=\"0 0 20 20\" width=\"14\" xmlns=\"http://www.w3.org/2000/svg\"><title>star-fill</title><path d=\"M6.76 6.8l-6.38 0.96c-0.22 0.040-0.38 0.22-0.38 0.44 0 0.12 0.040 0.24 0.12 0.32v0l4.64 4.76-1.1 6.66c0 0.020 0 0.040 0 0.080 0 0.24 0.2 0.44 0.44 0.44 0.1 0 0.16-0.020 0.24-0.060v0l5.7-3.12 5.68 3.12c0.060 0.040 0.14 0.060 0.22 0.060 0.24 0 0.44-0.2 0.44-0.44 0-0.040 0-0.060 0-0.080v0l-1.1-6.66 4.64-4.76c0.080-0.080 0.12-0.2 0.12-0.32 0-0.22-0.16-0.4-0.36-0.44h-0.020l-6.38-0.96-2.96-6.18c-0.060-0.12-0.18-0.2-0.32-0.2s-0.26 0.080-0.32 0.2v0z\"></path></svg></i></div><span class=\"sc-z30xqq-4 hTgtKb\">5 votes</span></div><div class=\"sc-17hyc2s-3 jOoliK sc-1s0saks-8 gYkxGN\"><span class=\"sc-17hyc2s-1 cCiQWA\">₹369</span></div></div></div>, <div class=\"sc-1s0saks-11 cYGeYt\"><div class=\"sc-1s0saks-13 kQHKsO\"><h4 class=\"sc-1s0saks-15 iSmBPS\">Kodi Vepudu Pulao</h4><div class=\"sc-1s0saks-1 dpXgPd\"><div class=\"sc-1s0saks-2 jYdcVk\"><div class=\"sc-2gamf4-0 bFcyiI\" font-size=\"1.2rem\" type=\"tag\">SPICY</div></div></div><div class=\"sc-z30xqq-2 dnSIjs sc-1s0saks-9 kNjbyv\"><div class=\"sc-z30xqq-3 bewuUV\"><i class=\"sc-rbbb40-1 iFnyeo sc-z30xqq-0 fehnhH\" color=\"#F3C117\" size=\"14\"><svg aria-labelledby=\"icon-svg-title- icon-svg-desc-\" class=\"sc-rbbb40-0 kyPUnV\" fill=\"#F3C117\" height=\"14\" role=\"img\" viewbox=\"0 0 20 20\" width=\"14\" xmlns=\"http://www.w3.org/2000/svg\"><title>star-fill</title><path d=\"M6.76 6.8l-6.38 0.96c-0.22 0.040-0.38 0.22-0.38 0.44 0 0.12 0.040 0.24 0.12 0.32v0l4.64 4.76-1.1 6.66c0 0.020 0 0.040 0 0.080 0 0.24 0.2 0.44 0.44 0.44 0.1 0 0.16-0.020 0.24-0.060v0l5.7-3.12 5.68 3.12c0.060 0.040 0.14 0.060 0.22 0.060 0.24 0 0.44-0.2 0.44-0.44 0-0.040 0-0.060 0-0.080v0l-1.1-6.66 4.64-4.76c0.080-0.080 0.12-0.2 0.12-0.32 0-0.22-0.16-0.4-0.36-0.44h-0.020l-6.38-0.96-2.96-6.18c-0.060-0.12-0.18-0.2-0.32-0.2s-0.26 0.080-0.32 0.2v0z\"></path></svg></i><i class=\"sc-rbbb40-1 iFnyeo sc-z30xqq-0 fehnhH\" color=\"#F3C117\" size=\"14\"><svg aria-labelledby=\"icon-svg-title- icon-svg-desc-\" class=\"sc-rbbb40-0 kyPUnV\" fill=\"#F3C117\" height=\"14\" role=\"img\" viewbox=\"0 0 20 20\" width=\"14\" xmlns=\"http://www.w3.org/2000/svg\"><title>star-fill</title><path d=\"M6.76 6.8l-6.38 0.96c-0.22 0.040-0.38 0.22-0.38 0.44 0 0.12 0.040 0.24 0.12 0.32v0l4.64 4.76-1.1 6.66c0 0.020 0 0.040 0 0.080 0 0.24 0.2 0.44 0.44 0.44 0.1 0 0.16-0.020 0.24-0.060v0l5.7-3.12 5.68 3.12c0.060 0.040 0.14 0.060 0.22 0.060 0.24 0 0.44-0.2 0.44-0.44 0-0.040 0-0.060 0-0.080v0l-1.1-6.66 4.64-4.76c0.080-0.080 0.12-0.2 0.12-0.32 0-0.22-0.16-0.4-0.36-0.44h-0.020l-6.38-0.96-2.96-6.18c-0.060-0.12-0.18-0.2-0.32-0.2s-0.26 0.080-0.32 0.2v0z\"></path></svg></i><i class=\"sc-rbbb40-1 iFnyeo sc-z30xqq-0 fehnhH\" color=\"#F3C117\" size=\"14\"><svg aria-labelledby=\"icon-svg-title- icon-svg-desc-\" class=\"sc-rbbb40-0 kyPUnV\" fill=\"#F3C117\" height=\"14\" role=\"img\" viewbox=\"0 0 20 20\" width=\"14\" xmlns=\"http://www.w3.org/2000/svg\"><title>star-fill</title><path d=\"M6.76 6.8l-6.38 0.96c-0.22 0.040-0.38 0.22-0.38 0.44 0 0.12 0.040 0.24 0.12 0.32v0l4.64 4.76-1.1 6.66c0 0.020 0 0.040 0 0.080 0 0.24 0.2 0.44 0.44 0.44 0.1 0 0.16-0.020 0.24-0.060v0l5.7-3.12 5.68 3.12c0.060 0.040 0.14 0.060 0.22 0.060 0.24 0 0.44-0.2 0.44-0.44 0-0.040 0-0.060 0-0.080v0l-1.1-6.66 4.64-4.76c0.080-0.080 0.12-0.2 0.12-0.32 0-0.22-0.16-0.4-0.36-0.44h-0.020l-6.38-0.96-2.96-6.18c-0.060-0.12-0.18-0.2-0.32-0.2s-0.26 0.080-0.32 0.2v0z\"></path></svg></i><i class=\"sc-rbbb40-1 iFnyeo sc-z30xqq-1 heKqFw\" color=\"#F3C117\" size=\"14\"><svg aria-labelledby=\"icon-svg-title- icon-svg-desc-\" class=\"sc-rbbb40-0 kyPUnV\" fill=\"#F3C117\" height=\"14\" role=\"img\" viewbox=\"0 0 20 20\" width=\"14\" xmlns=\"http://www.w3.org/2000/svg\"><lineargradient id=\"clt8puh55003l35784qejvo5n\" x1=\"0\" x2=\"100%\" y1=\"0\" y2=\"0\"><stop offset=\"0\" stop-color=\"#F3C117\"></stop><stop offset=\"69%\" stop-color=\"#F3C117\"></stop><stop offset=\"70%\" stop-color=\"#E8E8E8\"></stop><stop offset=\"1\" stop-color=\"#E8E8E8\"></stop></lineargradient><path d=\"M6.76 6.8l-6.38 0.96c-0.22 0.040-0.38 0.22-0.38 0.44 0 0.12 0.040 0.24 0.12 0.32v0l4.64 4.76-1.1 6.66c0 0.020 0 0.040 0 0.080 0 0.24 0.2 0.44 0.44 0.44 0.1 0 0.16-0.020 0.24-0.060v0l5.7-3.12 5.68 3.12c0.060 0.040 0.14 0.060 0.22 0.060 0.24 0 0.44-0.2 0.44-0.44 0-0.040 0-0.060 0-0.080v0l-1.1-6.66 4.64-4.76c0.080-0.080 0.12-0.2 0.12-0.32 0-0.22-0.16-0.4-0.36-0.44h-0.020l-6.38-0.96-2.96-6.18c-0.060-0.12-0.18-0.2-0.32-0.2s-0.26 0.080-0.32 0.2v0z\" fill=\"url(#clt8puh55003l35784qejvo5n)\"></path></svg></i><i class=\"sc-rbbb40-1 iFnyeo sc-z30xqq-0 fehnhH\" color=\"#E8E8E8\" size=\"14\"><svg aria-labelledby=\"icon-svg-title- icon-svg-desc-\" class=\"sc-rbbb40-0 kyPUnV\" fill=\"#E8E8E8\" height=\"14\" role=\"img\" viewbox=\"0 0 20 20\" width=\"14\" xmlns=\"http://www.w3.org/2000/svg\"><title>star-fill</title><path d=\"M6.76 6.8l-6.38 0.96c-0.22 0.040-0.38 0.22-0.38 0.44 0 0.12 0.040 0.24 0.12 0.32v0l4.64 4.76-1.1 6.66c0 0.020 0 0.040 0 0.080 0 0.24 0.2 0.44 0.44 0.44 0.1 0 0.16-0.020 0.24-0.060v0l5.7-3.12 5.68 3.12c0.060 0.040 0.14 0.060 0.22 0.060 0.24 0 0.44-0.2 0.44-0.44 0-0.040 0-0.060 0-0.080v0l-1.1-6.66 4.64-4.76c0.080-0.080 0.12-0.2 0.12-0.32 0-0.22-0.16-0.4-0.36-0.44h-0.020l-6.38-0.96-2.96-6.18c-0.060-0.12-0.18-0.2-0.32-0.2s-0.26 0.080-0.32 0.2v0z\"></path></svg></i></div><span class=\"sc-z30xqq-4 hTgtKb\">12 votes</span></div><div class=\"sc-17hyc2s-3 jOoliK sc-1s0saks-8 gYkxGN\"><span class=\"sc-17hyc2s-1 cCiQWA\">₹369</span></div></div></div>, <div class=\"sc-1s0saks-11 cYGeYt\"><div class=\"sc-1s0saks-13 kQHKsO\"><h4 class=\"sc-1s0saks-15 iSmBPS\">Nattukodi Pulao</h4><div class=\"sc-17hyc2s-3 jOoliK sc-1s0saks-8 gYkxGN\"><span class=\"sc-17hyc2s-1 cCiQWA\">₹449</span></div></div></div>, <div class=\"sc-1s0saks-11 cYGeYt\"><div class=\"sc-1s0saks-13 kQHKsO\"><h4 class=\"sc-1s0saks-15 iSmBPS\">Mamsam Vepudu Pulao</h4><div class=\"sc-17hyc2s-3 jOoliK sc-1s0saks-8 gYkxGN\"><span class=\"sc-17hyc2s-1 cCiQWA\">₹449</span></div></div></div>, <div class=\"sc-1s0saks-11 cYGeYt\"><div class=\"sc-1s0saks-13 kQHKsO\"><h4 class=\"sc-1s0saks-15 iSmBPS\">Nellore Mamsam Pulao</h4><div class=\"sc-17hyc2s-3 jOoliK sc-1s0saks-8 gYkxGN\"><span class=\"sc-17hyc2s-1 cCiQWA\">₹449</span></div></div></div>, <div class=\"sc-1s0saks-11 cYGeYt\"><div class=\"sc-1s0saks-13 kQHKsO\"><h4 class=\"sc-1s0saks-15 iSmBPS\">Keema Vepudu Pulao</h4><div class=\"sc-17hyc2s-3 jOoliK sc-1s0saks-8 gYkxGN\"><span class=\"sc-17hyc2s-1 cCiQWA\">₹449</span></div></div></div>, <div class=\"sc-1s0saks-11 cYGeYt\"><div class=\"sc-1s0saks-13 kQHKsO\"><h4 class=\"sc-1s0saks-15 iSmBPS\">Pandu Mirchi Mamsam Pulao</h4><div class=\"sc-17hyc2s-3 jOoliK sc-1s0saks-8 gYkxGN\"><span class=\"sc-17hyc2s-1 cCiQWA\">₹569</span></div></div></div>, <div class=\"sc-1s0saks-11 cYGeYt\"><div class=\"sc-1s0saks-13 kQHKsO\"><h4 class=\"sc-1s0saks-15 iSmBPS\">Royyala Vepudu Pulao</h4><div class=\"sc-17hyc2s-3 jOoliK sc-1s0saks-8 gYkxGN\"><span class=\"sc-17hyc2s-1 cCiQWA\">₹449</span></div></div></div>, <div class=\"sc-1s0saks-11 cYGeYt\"><div class=\"sc-1s0saks-13 kQHKsO\"><h4 class=\"sc-1s0saks-15 iSmBPS\">Coke</h4><div class=\"sc-17hyc2s-3 jOoliK sc-1s0saks-8 gYkxGN\"><span class=\"sc-17hyc2s-1 cCiQWA\">₹40</span></div></div></div>, <div class=\"sc-1s0saks-11 cYGeYt\"><div class=\"sc-1s0saks-13 kQHKsO\"><h4 class=\"sc-1s0saks-15 iSmBPS\">Thumbs up</h4><div class=\"sc-17hyc2s-3 jOoliK sc-1s0saks-8 gYkxGN\"><span class=\"sc-17hyc2s-1 cCiQWA\">₹40</span></div></div></div>, <div class=\"sc-1s0saks-11 cYGeYt\"><div class=\"sc-1s0saks-13 kQHKsO\"><h4 class=\"sc-1s0saks-15 iSmBPS\">Sprite</h4><div class=\"sc-17hyc2s-3 jOoliK sc-1s0saks-8 gYkxGN\"><span class=\"sc-17hyc2s-1 cCiQWA\">₹40</span></div></div></div>]\n"
     ]
    }
   ],
   "source": [
    "soup = BeautifulSoup(driver.page_source,\"html.parser\")\n",
    "items = soup.find_all(\"div\",{\"class\":\"sc-1s0saks-11 cYGeYt\"})\n",
    "print(items)"
   ]
  },
  {
   "cell_type": "code",
   "execution_count": 35,
   "metadata": {},
   "outputs": [
    {
     "name": "stdout",
     "output_type": "stream",
     "text": [
      "Tomato Miriyala Rasam ₹169\n",
      "Kodi Shorba ₹189\n",
      "Pandu Mirchi Veg Sticks ₹299\n",
      "Palavelli Mushroom Vepudu ₹329\n",
      "Konaseema Paneer Vepudu ₹329\n",
      "Pudina Paneer Vepudu ₹329\n",
      "Paneer Tikka ₹349\n",
      "Jilakara Kodi Vepudu ₹349\n",
      "Kodi Roast ₹399\n",
      "Velluli Kodi Vepudu ₹419\n",
      "Pandu Mirchi Kodi Sticks ₹399\n",
      "Ramagundam Kodi Vepudu ₹549\n",
      "Pandu Mirchi Kodi Kabab ₹399\n",
      "Pachhi Mirchi Kodi Kabab ₹399\n",
      "Khandari Kodi Kabab ₹399\n",
      "Gongura Kodi Kabab ₹399\n",
      "Miriyala Mamsam Vepudu ₹449\n",
      "Gongura Mamsam Vepudu ₹449\n",
      "Bhimavaram Mamsam Vepudu ₹449\n",
      "Chepa Vepudu Boneless ₹449\n",
      "Ajwaini Chepa Tikka ₹449\n",
      "Royyala Boondi Vepudu ₹449\n",
      "Rajamundry Royyala Vepudu ₹449\n",
      "Chinna Ullipaya Paneer Curry ₹299\n",
      "Methi Kura Paneer ₹299\n",
      "Jeedi Pappu Mushroom Curry ₹349\n",
      "Tomato Pappu ₹249\n",
      "Palakura Pappu ₹249\n",
      "Mamidikaya Pappu ₹249\n",
      "Methikura Pappu ₹249\n",
      "Gongura Pappu ₹249\n",
      "Kodi Guddu Iguru ₹249\n",
      "Gongura Kodi Kura ₹349\n",
      "Miriyala Kodi Kura ₹349\n",
      "Guntur Kodi Kura ₹349\n",
      "Nattukodi Pulusu ₹399\n",
      "Telangana Mamsam Kura ₹429\n",
      "Keema Kura ₹429\n",
      "Gongura Mamsam Kura ₹429\n",
      "Mutton Iguru ₹429\n",
      "Nellore Chepala Pulusu ₹449\n",
      "Royyala Iguru ₹449\n",
      "Lachha Paratha ₹90\n",
      "Methi Paratha ₹90\n",
      "Malabari Paratha ₹90\n",
      "Masaledar Roti ₹90\n",
      "Hara Bara Lachhedar Paratha ₹90\n",
      "Achari Roti ₹90\n",
      "Plain Tandoori Roti ₹60\n",
      "Butter Tandoori Roti ₹60\n",
      "Plain Naan ₹70\n",
      "Butter Naan ₹70\n",
      "Ulavacharu Veg Pulao ₹299\n",
      "Pachhi Mirchi Veg Pulao ₹329\n",
      "Avakai Veg Pulao ₹329\n",
      "Mudda Pappu Avakai Annam ₹249\n",
      "Perugu Annam ₹199\n",
      "Pachhi Mirchi Kodi Pilao ₹369\n",
      "Pandu Mirchi Kodi Pulao ₹369\n",
      "Kodi Vepudu Pulao ₹369\n",
      "Nattukodi Pulao ₹449\n",
      "Mamsam Vepudu Pulao ₹449\n",
      "Nellore Mamsam Pulao ₹449\n",
      "Keema Vepudu Pulao ₹449\n",
      "Pandu Mirchi Mamsam Pulao ₹569\n",
      "Royyala Vepudu Pulao ₹449\n",
      "Coke ₹40\n",
      "Thumbs up ₹40\n",
      "Sprite ₹40\n"
     ]
    }
   ],
   "source": [
    "for item in items:\n",
    "    # print(item.text)\n",
    "    item_name = item.find(\"h4\",{\"class\":\"sc-1s0saks-15 iSmBPS\"}).text\n",
    "    item_price = item.find(\"span\",{\"class\":\"sc-17hyc2s-1 cCiQWA\"}).text\n",
    "    print(item_name,item_price)"
   ]
  },
  {
   "cell_type": "code",
   "execution_count": 1,
   "metadata": {},
   "outputs": [
    {
     "ename": "TypeError",
     "evalue": "'NoneType' object is not subscriptable",
     "output_type": "error",
     "traceback": [
      "\u001b[1;31m---------------------------------------------------------------------------\u001b[0m",
      "\u001b[1;31mTypeError\u001b[0m                                 Traceback (most recent call last)",
      "Cell \u001b[1;32mIn[1], line 26\u001b[0m\n\u001b[0;32m     23\u001b[0m time\u001b[38;5;241m.\u001b[39msleep(\u001b[38;5;241m180\u001b[39m)\n\u001b[0;32m     25\u001b[0m soup \u001b[38;5;241m=\u001b[39m BeautifulSoup(driver\u001b[38;5;241m.\u001b[39mpage_source, \u001b[38;5;124m\"\u001b[39m\u001b[38;5;124mhtml.parser\u001b[39m\u001b[38;5;124m\"\u001b[39m)\n\u001b[1;32m---> 26\u001b[0m hotels \u001b[38;5;241m=\u001b[39m [\u001b[38;5;124m\"\u001b[39m\u001b[38;5;124mhttps://www.zomato.com\u001b[39m\u001b[38;5;124m\"\u001b[39m\u001b[38;5;241m+\u001b[39mhotel\u001b[38;5;241m.\u001b[39mfind(\u001b[38;5;124m\"\u001b[39m\u001b[38;5;124ma\u001b[39m\u001b[38;5;124m\"\u001b[39m)[\u001b[38;5;124m'\u001b[39m\u001b[38;5;124mhref\u001b[39m\u001b[38;5;124m'\u001b[39m] \u001b[38;5;28;01mfor\u001b[39;00m hotel \u001b[38;5;129;01min\u001b[39;00m soup\u001b[38;5;241m.\u001b[39mfind_all(\u001b[38;5;124m\"\u001b[39m\u001b[38;5;124mdiv\u001b[39m\u001b[38;5;124m\"\u001b[39m,{\u001b[38;5;124m\"\u001b[39m\u001b[38;5;124mclass\u001b[39m\u001b[38;5;124m\"\u001b[39m:\u001b[38;5;124m\"\u001b[39m\u001b[38;5;124mjumbo-tracker\u001b[39m\u001b[38;5;124m\"\u001b[39m})]\n\u001b[0;32m     27\u001b[0m \u001b[38;5;28mprint\u001b[39m(hotels)\n\u001b[0;32m     29\u001b[0m data \u001b[38;5;241m=\u001b[39m []\n",
      "Cell \u001b[1;32mIn[1], line 26\u001b[0m, in \u001b[0;36m<listcomp>\u001b[1;34m(.0)\u001b[0m\n\u001b[0;32m     23\u001b[0m time\u001b[38;5;241m.\u001b[39msleep(\u001b[38;5;241m180\u001b[39m)\n\u001b[0;32m     25\u001b[0m soup \u001b[38;5;241m=\u001b[39m BeautifulSoup(driver\u001b[38;5;241m.\u001b[39mpage_source, \u001b[38;5;124m\"\u001b[39m\u001b[38;5;124mhtml.parser\u001b[39m\u001b[38;5;124m\"\u001b[39m)\n\u001b[1;32m---> 26\u001b[0m hotels \u001b[38;5;241m=\u001b[39m [\u001b[38;5;124m\"\u001b[39m\u001b[38;5;124mhttps://www.zomato.com\u001b[39m\u001b[38;5;124m\"\u001b[39m\u001b[38;5;241m+\u001b[39m\u001b[43mhotel\u001b[49m\u001b[38;5;241;43m.\u001b[39;49m\u001b[43mfind\u001b[49m\u001b[43m(\u001b[49m\u001b[38;5;124;43m\"\u001b[39;49m\u001b[38;5;124;43ma\u001b[39;49m\u001b[38;5;124;43m\"\u001b[39;49m\u001b[43m)\u001b[49m\u001b[43m[\u001b[49m\u001b[38;5;124;43m'\u001b[39;49m\u001b[38;5;124;43mhref\u001b[39;49m\u001b[38;5;124;43m'\u001b[39;49m\u001b[43m]\u001b[49m \u001b[38;5;28;01mfor\u001b[39;00m hotel \u001b[38;5;129;01min\u001b[39;00m soup\u001b[38;5;241m.\u001b[39mfind_all(\u001b[38;5;124m\"\u001b[39m\u001b[38;5;124mdiv\u001b[39m\u001b[38;5;124m\"\u001b[39m,{\u001b[38;5;124m\"\u001b[39m\u001b[38;5;124mclass\u001b[39m\u001b[38;5;124m\"\u001b[39m:\u001b[38;5;124m\"\u001b[39m\u001b[38;5;124mjumbo-tracker\u001b[39m\u001b[38;5;124m\"\u001b[39m})]\n\u001b[0;32m     27\u001b[0m \u001b[38;5;28mprint\u001b[39m(hotels)\n\u001b[0;32m     29\u001b[0m data \u001b[38;5;241m=\u001b[39m []\n",
      "\u001b[1;31mTypeError\u001b[0m: 'NoneType' object is not subscriptable"
     ]
    }
   ],
   "source": [
    "from selenium import webdriver\n",
    "from selenium.webdriver.common.by import By\n",
    "import webbrowser\n",
    "from bs4 import BeautifulSoup\n",
    "import pandas as pd\n",
    "import xlsxwriter\n",
    "from selenium.common.exceptions import NoSuchElementException\n",
    "import time\n",
    "from random_user_agent.user_agent import UserAgent\n",
    "from random_user_agent.params import SoftwareName,OperatingSystem\n",
    "from selenium.webdriver.chrome.options import Options\n",
    "import json\n",
    "from selenium.webdriver.common.action_chains import ActionChains\n",
    "\n",
    "url = input(\"Enter the Zomato City URL (Ex. https://www.zomato.com/hyderabad): \")\n",
    "driver = webdriver.Chrome()\n",
    "categories = [\"delivery\",\"drinks-and-nightlife\"]\n",
    "\n",
    "for category in categories:\n",
    "    driver.get(url+\"/\"+category)\n",
    "\n",
    "    driver.execute_script(\"window.scrollTo(0, document.body.scrollHeight);\")\n",
    "    time.sleep(180)\n",
    "\n",
    "    soup = BeautifulSoup(driver.page_source, \"html.parser\")\n",
    "    hotels = [\"https://www.zomato.com\"+hotel.find(\"a\")['href'] for hotel in soup.find_all(\"div\",{\"class\":\"jumbo-tracker\"})]\n",
    "    print(hotels)\n",
    "\n",
    "    data = []\n",
    "    page = 1\n",
    "    total_hotels = len(hotels)\n",
    "    for hotel in hotels:\n",
    "        print(f\"Hotel no. {page} out of {total_hotels} Hotels in Category - {category}\")\n",
    "        new_data = {}\n",
    "        driver.get(\"/\".join(hotel.split(\"/\")[:5]))\n",
    "        time.sleep(2)\n",
    "        soup = BeautifulSoup(driver.page_source, \"html.parser\")\n",
    "        name = soup.find(\"h1\",{\"class\":\"sc-7kepeu-0 sc-iSDuPN fwzNdh\"}).text\n",
    "        location = soup.find(\"p\",{\"class\":\"sc-1hez2tp-0 clKRrC\"}).text\n",
    "        dining_rating = soup.find_all(\"div\",{\"class\":\"sc-1q7bklc-1 cILgox\"})[0].text\n",
    "        delivery_rating = soup.find_all(\"div\",{\"class\":\"sc-1q7bklc-1 cILgox\"})[1].text\n",
    "\n",
    "\n",
    "        driver.get(\"/\".join(hotel.split(\"/\")[:-1])+\"/order\")\n",
    "        time.sleep(2)\n",
    "        soup = BeautifulSoup(driver.page_source,\"html.parser\")\n",
    "        items = soup.find_all(\"div\",{\"class\":\"sc-1s0saks-11 cYGeYt\"})\n",
    "        for item in items:\n",
    "            item_name = item.find(\"h4\",{\"class\":\"sc-1s0saks-15 iSmBPS\"}).text\n",
    "            item_price = item.find(\"span\",{\"class\":\"sc-17hyc2s-1 cCiQWA\"}).text\n",
    "            \n",
    "            new_data[\"Name\"] = name\n",
    "            new_data[\"Location\"] = location\n",
    "            new_data[\"Dining Ratings\"] = dining_rating\n",
    "            new_data[\"Delivery Ratings\"] = delivery_rating\n",
    "            new_data[\"Item Name\"] = item_name\n",
    "            new_data[\"Item Price\"] = item_price\n",
    "            new_data[\"Restaurant URL\"] = hotel\n",
    "\n",
    "            data.append(new_data)\n",
    "        page += 1\n",
    "\n",
    "    df = pd.DataFrame(data)\n",
    "    df.to_excel(\"Data/\"+url.split(\"/\")[3]+\"-\"+category+\".xlsx\", index=False)\n"
   ]
  },
  {
   "cell_type": "code",
   "execution_count": 5,
   "metadata": {},
   "outputs": [
    {
     "data": {
      "text/plain": [
       "'/vijayawada/restaurants?place_name=Vijayawada&dishv2_id=30308&category=1'"
      ]
     },
     "execution_count": 5,
     "metadata": {},
     "output_type": "execute_result"
    }
   ],
   "source": [
    "soup.find_all(\"div\",{\"class\":\"jumbo-tracker\"})[0].find(\"a\")[\"href\"]"
   ]
  },
  {
   "cell_type": "code",
   "execution_count": null,
   "metadata": {},
   "outputs": [],
   "source": []
  }
 ],
 "metadata": {
  "kernelspec": {
   "display_name": "Python 3",
   "language": "python",
   "name": "python3"
  },
  "language_info": {
   "codemirror_mode": {
    "name": "ipython",
    "version": 3
   },
   "file_extension": ".py",
   "mimetype": "text/x-python",
   "name": "python",
   "nbconvert_exporter": "python",
   "pygments_lexer": "ipython3",
   "version": "3.9.4"
  }
 },
 "nbformat": 4,
 "nbformat_minor": 2
}
